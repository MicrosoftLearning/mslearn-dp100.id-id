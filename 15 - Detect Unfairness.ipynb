{
  "cells": [
    {
      "cell_type": "markdown",
      "source": [
        "# Mendeteksi dan Mengurangi Ketidakwajaran dalam Model\n",
        "\n",
        "Model pembelajaran mesin dapat menggabungkan bias yang tidak disengaja, yang dapat menyebabkan masalah dengan *kewajaran*. Misalnya, model yang memprediksi kemungkinan diabetes mungkin bekerja dengan baik untuk beberapa kelompok usia, tetapi tidak untuk beberapa kelompok yang lain - mengharuskan sebagian pasien untuk mengikuti pengujian yang tidak perlu, atau menghapus beberapa pengujian yang akan mengonfirmasi diagnosis diabetes.\n",
        "\n",
        "Dalam buku catatan ini, Anda akan menggunakan paket **Fairlearn** untuk menganalisis model dan mengeksplorasi perbedaan performa prediksi untuk subset pasien yang berbeda berdasarkan usia.\n",
        "\n",
        "> **Catatan**: Integrasi dengan paket Fairlearn saat ini sedang dalam pratinjau. Anda mungkin mengalami beberapa kesalahan tak terduga.\n",
        "\n",
        "## Penting - Pertimbangan untuk kewajaran\n",
        "\n",
        "> Notebook ini dirancang sebagai latihan praktis untuk membantu Anda menjelajahi paket Fairlearn dan integrasinya dengan Azure Machine Learning. Namun, ada banyak pertimbangan yang harus didiskusikan oleh organisasi atau tim ilmu data terkait dengan kewajaran sebelum menggunakan alat tersebut. Kewajaran adalah tantangan *sosioteknik* kompleks yang lebih dari sekadar menjalankan alat untuk menganalisis model.\n",
        ">\n",
        "> Microsoft Research telah bersama-sama mengembangkan [daftar periksa kewajaran](https://www.microsoft.com/en-us/research/publication/co-designing-checklists-to-understand-organizational-challenges-and-opportunities-around-fairness-in-ai/) yang memberikan titik awal yang bagus untuk diskusi penting yang perlu dilakukan sebelum satu baris kode ditulis.\n",
        "\n",
        "## Menginstal SDK yang diperlukan\n",
        "\n",
        "Untuk menggunakan paket Fairlearn dengan Azure Machine Learning, Anda memerlukan paket Azure Machine Learning dan Python Fairlearn, jadi jalankan sel berikut untuk memverifikasi bahwa paket **azureml-contrib-fairness** telah diinstal. "
      ],
      "metadata": {}
    },
    {
      "cell_type": "code",
      "source": [
        "pip show azureml-contrib-fairness"
      ],
      "outputs": [],
      "execution_count": null,
      "metadata": {
        "gather": {
          "logged": 1649368422673
        }
      }
    },
    {
      "cell_type": "markdown",
      "source": [
        "Anda juga memerlukan paket **fairlearn** itu sendiri, dan paket **raiwidgets** (yang digunakan oleh Fairlearn untuk memvisualisasikan dasbor). Jalankan sel berikut untuk menginstalnya."
      ],
      "metadata": {}
    },
    {
      "cell_type": "code",
      "source": [
        "pip install --upgrade fairlearn==0.7.0 raiwidgets"
      ],
      "outputs": [],
      "execution_count": null,
      "metadata": {}
    },
    {
      "cell_type": "markdown",
      "source": [
        "## Melatih model\n",
        "\n",
        "Anda akan mulai dengan melatih model klasifikasi untuk memprediksi kemungkinan diabetes. Selain membagi data menjadi kumpulan fitur serta label pelatihan dan pengujian, Anda akan mengekstrak fitur *sensitif* yang digunakan untuk menentukan subpopulasi data yang kewajarannya ingin Anda bandingkan. Dalam hal ini, Anda akan menggunakan kolom **Usia** untuk menentukan dua kategori pasien: pasien yang berusia di atas 50 tahun, dan pasien yang berusia 50 tahun atau lebih muda."
      ],
      "metadata": {}
    },
    {
      "cell_type": "code",
      "source": [
        "import pandas as pd\n",
        "import numpy as np\n",
        "from sklearn.model_selection import train_test_split\n",
        "from sklearn.tree import DecisionTreeClassifier\n",
        "\n",
        "# load the diabetes dataset\n",
        "print(\"Loading Data...\")\n",
        "data = pd.read_csv('data/diabetes.csv')\n",
        "\n",
        "# Separate features and labels\n",
        "features = ['Pregnancies','PlasmaGlucose','DiastolicBloodPressure','TricepsThickness','SerumInsulin','BMI','DiabetesPedigree','Age']\n",
        "X, y = data[features].values, data['Diabetic'].values\n",
        "\n",
        "# Get sensitive features\n",
        "S = data[['Age']].astype(int)\n",
        "# Change value to represent age groups\n",
        "S['Age'] = np.where(S.Age > 50, 'Over 50', '50 or younger')\n",
        "\n",
        "# Split data into training set and test set\n",
        "X_train, X_test, y_train, y_test, S_train, S_test = train_test_split(X, y, S, test_size=0.20, random_state=0, stratify=y)\n",
        "\n",
        "# Train a classification model\n",
        "print(\"Training model...\")\n",
        "diabetes_model = DecisionTreeClassifier().fit(X_train, y_train)\n",
        "\n",
        "print(\"Model trained.\")"
      ],
      "outputs": [],
      "execution_count": null,
      "metadata": {}
    },
    {
      "cell_type": "markdown",
      "source": [
        "Sekarang setelah melatih model, Anda dapat menggunakan paket Fairlearn guna membandingkan perilakunya untuk nilai fitur sensitif yang berbeda. Dalam hal ini, Anda akan:\n",
        "\n",
        "- Menggunakan fungsi **selection_rate** fairlearn untuk mengembalikan tingkat pemilihan (persentase prediksi positif) untuk keseluruhan populasi.\n",
        "- Menggunakan fungsi metrik **scikit-learn** untuk menghitung akurasi, ingatan, dan metrik presisi secara keseluruhan.\n",
        "- Menggunakan **MetricFrame** untuk menghitung tingkat pemilihan, akurasi, ingatan, dan presisi untuk setiap kelompok usia di fitur sensitif **Usia**. Perhatikan bahwa campuran fungsi metrik **fairlearn** dan **scikit-learn** digunakan untuk menghitung nilai performa."
      ],
      "metadata": {}
    },
    {
      "cell_type": "code",
      "source": [
        "from fairlearn.metrics import selection_rate, MetricFrame\n",
        "from sklearn.metrics import accuracy_score, recall_score, precision_score\n",
        "\n",
        "# Get predictions for the witheld test data\n",
        "y_hat = diabetes_model.predict(X_test)\n",
        "\n",
        "# Get overall metrics\n",
        "print(\"Overall Metrics:\")\n",
        "# Get selection rate from fairlearn\n",
        "overall_selection_rate = selection_rate(y_test, y_hat) # Get selection rate from fairlearn\n",
        "print(\"\\tSelection Rate:\", overall_selection_rate)\n",
        "# Get standard metrics from scikit-learn\n",
        "overall_accuracy = accuracy_score(y_test, y_hat)\n",
        "print(\"\\tAccuracy:\", overall_accuracy)\n",
        "overall_recall = recall_score(y_test, y_hat)\n",
        "print(\"\\tRecall:\", overall_recall)\n",
        "overall_precision = precision_score(y_test, y_hat)\n",
        "print(\"\\tPrecision:\", overall_precision)\n",
        "\n",
        "# Get metrics by sensitive group from fairlearn\n",
        "print('\\nMetrics by Group:')\n",
        "metrics = {'selection_rate': selection_rate,\n",
        "           'accuracy': accuracy_score,\n",
        "           'recall': recall_score,\n",
        "           'precision': precision_score}\n",
        "\n",
        "group_metrics = MetricFrame(metrics=metrics,\n",
        "                             y_true=y_test,\n",
        "                             y_pred=y_hat,\n",
        "                             sensitive_features=S_test['Age'])\n",
        "\n",
        "print(group_metrics.by_group)"
      ],
      "outputs": [],
      "execution_count": null,
      "metadata": {}
    },
    {
      "cell_type": "markdown",
      "source": [
        "Dari metrik ini, Anda harus dapat membedakan bahwa sebagian besar pasien yang lebih tua diprediksi menderita diabetes. *Akurasi* harus kurang lebih sama untuk kedua kelompok, tetapi pemeriksaan lebih jauh terhadap *presisi* dan *pengenalan* menunjukkan beberapa perbedaan dalam seberapa baik model memprediksi setiap kelompok usia.\n",
        "\n",
        "Dalam skenario ini, pertimbangkan *pengenalan*. Metrik ini menunjukkan proporsi kasus positif yang diidentifikasi dengan benar oleh model. Dengan kata lain, dari semua pasien yang benar-benar diabetes, berapa banyak yang ditemukan model? Model ini melakukan pekerjaan yang lebih baik untuk pasien dalam kelompok usia yang lebih tua daripada pasien yang lebih muda.\n",
        "\n",
        "Seringkali lebih mudah untuk membandingkan metrik secara visual. Untuk melakukan ini, Anda akan menggunakan dasbor kewajaran Fairlearn:\n",
        "\n",
        "1. Jalankan sel di bawah ini untuk membuat dasbor dari model yang Anda buat sebelumnya.\n",
        "2. Saat widget ditampilkan, gunakan tautan **Mulai** untuk mulai mengonfigurasi visualisasi Anda.\n",
        "3. Pilih fitur sensitif yang ingin Anda bandingkan (dalam hal ini, hanya ada satu: **Usia**).\n",
        "4. Pilih metrik performa model yang ingin Anda bandingkan (dalam hal ini, ini adalah model klasifikasi biner sehingga opsinya adalah *Akurasi*, *Akurasi seimbang*, *Presisi*, dan *Pengenalan*). Mulailah dengan **Pengenalan**.\n",
        "5. Pilih jenis perbandingan kewajaran yang ingin Anda lihat. Mulailah dengan **Perbedaan paritas demografis**.\n",
        "6. Lihat bagan dasbor, yang menunjukkan:\n",
        "    - **Tingkat seleksi** - Perbandingan jumlah kasus positif per subpopulasi.\n",
        "    - **Tingkat positif palsu dan negatif palsu** - bagaimana metrik performa yang dipilih dibandingkan untuk subpopulasi, termasuk *prediksi rendah* (negatif palsu) dan *prediksi berlebihan* (positif palsu).\n",
        "7. Edit konfigurasi untuk membandingkan prediksi berdasarkan metrik performa dan kewajaran yang berbeda."
      ],
      "metadata": {}
    },
    {
      "cell_type": "code",
      "source": [
        "from raiwidgets import FairnessDashboard\n",
        "\n",
        "# View this model in Fairlearn's fairness dashboard, and see the disparities which appear:\n",
        "FairnessDashboard(sensitive_features=S_test,\n",
        "                   y_true=y_test,\n",
        "                   y_pred={\"diabetes_model\": diabetes_model.predict(X_test)})"
      ],
      "outputs": [],
      "execution_count": null,
      "metadata": {}
    },
    {
      "cell_type": "markdown",
      "source": [
        "Hasilnya menunjukkan tingkat seleksi yang jauh lebih tinggi untuk pasien berusia di atas 50 tahun daripada pasien yang lebih muda. Namun, pada kenyataannya, usia merupakan faktor utama dalam diabetes, jadi Anda akan mengharapkan lebih banyak kasus positif di antara pasien yang lebih tua.\n",
        "\n",
        "Jika kita mendasarkan performa model pada *akurasi* (dengan kata lain, persentase prediksi model menjadi benar), maka tampaknya bekerja kurang lebih sama untuk kedua subpopulasi. Namun, berdasarkan metrik *presisi* dan *pengenalan*, model ini cenderung berperforma lebih baik untuk pasien yang berusia di atas 50 tahun.\n",
        "\n",
        "Mari kita lihat apa yang terjadi jika kita mengecualikan fitur **Usia** saat melatih model."
      ],
      "metadata": {}
    },
    {
      "cell_type": "code",
      "source": [
        "# Separate features and labels\n",
        "ageless = features.copy()\n",
        "ageless.remove('Age')\n",
        "X2, y2 = data[ageless].values, data['Diabetic'].values\n",
        "\n",
        "# Split data into training set and test set\n",
        "X_train2, X_test2, y_train2, y_test2, S_train2, S_test2 = train_test_split(X2, y2, S, test_size=0.20, random_state=0, stratify=y2)\n",
        "\n",
        "# Train a classification model\n",
        "print(\"Training model...\")\n",
        "ageless_model = DecisionTreeClassifier().fit(X_train2, y_train2)\n",
        "print(\"Model trained.\")\n",
        "\n",
        "# View this model in Fairlearn's fairness dashboard, and see the disparities which appear:\n",
        "FairnessDashboard(sensitive_features=S_test2,\n",
        "                   y_true=y_test2,\n",
        "                   y_pred={\"ageless_diabetes_model\": ageless_model.predict(X_test2)})"
      ],
      "outputs": [],
      "execution_count": null,
      "metadata": {}
    },
    {
      "cell_type": "markdown",
      "source": [
        "Jelajahi model di dasbor.\n",
        "\n",
        "Saat Anda meninjau *pengenalan*, perhatikan bahwa disparitas telah berkurang, tetapi keseluruhan pengenalan juga berkurang karena model sekarang secara signifikan memperkirakan kasus positif untuk pasien yang lebih tua. Meskipun **Usia** bukan fitur yang digunakan dalam pelatihan, model tersebut masih menunjukkan beberapa perbedaan dalam seberapa baik prediksinya untuk pasien yang lebih tua dan lebih muda.\n",
        "\n",
        "Dalam skenario ini, menghapus fitur **Umur** sedikit mengurangi perbedaan dalam *pengenalan*, tetapi meningkatkan perbedaan dalam *presisi* dan *akurasi*. Hal ini menggarisbawahi salah satu kesulitan utama dalam menerapkan kewajaran pada model pembelajaran mesin - Anda harus benar-benar memahami apa yang dimaksud dengan *kewajaran* dalam konteks tertentu, dan mengoptimalkannya.\n",
        "\n",
        "## Mendaftarkan model dan mengunggah data dasbor ke ruang kerja Anda\n",
        "\n",
        "Anda telah melatih model dan meninjau dasbor secara lokal di notebook ini; tetapi mungkin berguna untuk mendaftarkan model di ruang kerja Azure Machine Learning Anda dan membuat eksperimen untuk merekam data dasbor sehingga Anda dapat melacak dan membagikan analisis kewajaran.\n",
        "\n",
        "Mari kita mulai dengan mendaftarkan model asli (yang menyertakan **Usia** sebagai fitur).\n",
        "\n",
        "> **Catatan**: Jika Anda belum membuat sesi yang terautentikasi dengan langganan Azure, Anda akan diminta untuk mengautentikasi dengan mengklik tautan, memasukkan kode autentikasi, dan masuk ke Azure."
      ],
      "metadata": {}
    },
    {
      "cell_type": "code",
      "source": [
        "from azureml.core import Workspace, Experiment, Model\n",
        "import joblib\n",
        "import os\n",
        "\n",
        "# Load the Azure ML workspace from the saved config file\n",
        "ws = Workspace.from_config()\n",
        "print('Ready to work with', ws.name)\n",
        "\n",
        "# Save the trained model\n",
        "model_file = 'diabetes_model.pkl'\n",
        "joblib.dump(value=diabetes_model, filename=model_file)\n",
        "\n",
        "# Register the model\n",
        "print('Registering model...')\n",
        "registered_model = Model.register(model_path=model_file,\n",
        "                                  model_name='diabetes_classifier',\n",
        "                                  workspace=ws)\n",
        "model_id= registered_model.id\n",
        "\n",
        "\n",
        "print('Model registered.', model_id)"
      ],
      "outputs": [],
      "execution_count": null,
      "metadata": {}
    },
    {
      "cell_type": "markdown",
      "source": [
        "Sekarang Anda dapat menggunakan paket FairLearn untuk membuat kumpulan metrik grup klasifikasi biner untuk satu atau beberapa model, dan menggunakan eksperimen Azure Machine Learning untuk mengunggah metrik.\n",
        "\n",
        "> **Catatan**: Ini mungkin memakan waktu cukup lama, dan dapat mengakibatkan beberapa pesan peringatan (yang dapat Anda abaikan). Ketika eksperimen selesai, data dasbor akan diunduh dan ditampilkan untuk memverifikasi bahwa data tersebut berhasil diunggah."
      ],
      "metadata": {}
    },
    {
      "cell_type": "code",
      "source": [
        "from fairlearn.metrics._group_metric_set import _create_group_metric_set\n",
        "from azureml.contrib.fairness import upload_dashboard_dictionary, download_dashboard_by_upload_id\n",
        "\n",
        "#  Create a dictionary of model(s) you want to assess for fairness \n",
        "sf = { 'Age': S_test.Age}\n",
        "ys_pred = { model_id:diabetes_model.predict(X_test) }\n",
        "dash_dict = _create_group_metric_set(y_true=y_test,\n",
        "                                    predictions=ys_pred,\n",
        "                                    sensitive_features=sf,\n",
        "                                    prediction_type='binary_classification')\n",
        "\n",
        "exp = Experiment(ws, 'mslearn-diabetes-fairness')\n",
        "print(exp)\n",
        "\n",
        "run = exp.start_logging()\n",
        "\n",
        "# Upload the dashboard to Azure Machine Learning\n",
        "try:\n",
        "    dashboard_title = \"Fairness insights of Diabetes Classifier\"\n",
        "    upload_id = upload_dashboard_dictionary(run,\n",
        "                                            dash_dict,\n",
        "                                            dashboard_name=dashboard_title)\n",
        "    print(\"\\nUploaded to id: {0}\\n\".format(upload_id))\n",
        "\n",
        "    # To test the dashboard, you can download it\n",
        "    downloaded_dict = download_dashboard_by_upload_id(run, upload_id)\n",
        "    print(downloaded_dict)\n",
        "finally:\n",
        "    run.complete()"
      ],
      "outputs": [],
      "execution_count": null,
      "metadata": {}
    },
    {
      "cell_type": "markdown",
      "source": [
        "Kode sebelumnya mengunduh metrik yang dihasilkan dalam eksperimen hanya untuk mengonfirmasi bahwa kode tersebut berhasil diselesaikan. Manfaat nyata dari mengunggah metrik ke eksperimen adalah Anda sekarang dapat melihat dasbor FairLearn di studio Azure Machine Learning.\n",
        "\n",
        "Jalankan sel di bawah untuk melihat detail eksperimen, dan klik tautan **Lihat detail Eksekusi** di widget untuk melihat eksekusi di studio Azure Machine Learning. Kemudian lihat tab **Kewajaran** dari eksperimen yang dijalankan untuk melihat dasbor ID kewajaran yang ditetapkan ke metrik yang Anda unggah, yang berperilaku sama seperti widget yang Anda lihat sebelumnya di buku catatan ini."
      ],
      "metadata": {}
    },
    {
      "cell_type": "code",
      "source": [
        "from azureml.widgets import RunDetails\n",
        "\n",
        "RunDetails(run).show()"
      ],
      "outputs": [],
      "execution_count": null,
      "metadata": {}
    },
    {
      "cell_type": "markdown",
      "source": [
        "Anda juga dapat menemukan dasbor kewajaran dengan memilih model di halaman **Model** di studio Azure Machine Learning dan meninjau tab **Fairness**-nya. Ini memungkinkan organisasi Anda untuk mempertahankan log analisis kewajaran untuk model yang Anda latih dan daftarkan."
      ],
      "metadata": {}
    },
    {
      "cell_type": "markdown",
      "source": [
        "## Mengurangi ketidakwajaran dalam model\n",
        "\n",
        "Sekarang setelah Anda menganalisis model untuk kewajaran, Anda dapat menggunakan salah satu teknik *mitigasi* yang didukung oleh paket FairLearn untuk menemukan model yang menyeimbangkan performa prediktif dan kewajaran.\n",
        "\n",
        "Dalam latihan ini, Anda akan menggunakan fitur **GridSearch**, yang melatih beberapa model dalam upaya meminimalkan perbedaan performa prediktif untuk fitur sensitif dalam kumpulan data (dalam hal ini, kelompok usia). Anda akan mengoptimalkan model dengan menerapkan batasan paritas **EqualizedOdds**, yang mencoba memastikan bahwa model yang menunjukkan tingkat positif benar dan salah serupa untuk setiap pengelompokan fitur sensitif. \n",
        "\n",
        "> *Ini mungkin butuh waktu untuk dijalankan*"
      ],
      "metadata": {}
    },
    {
      "cell_type": "code",
      "source": [
        "from fairlearn.reductions import GridSearch, EqualizedOdds\n",
        "import joblib\n",
        "import os\n",
        "\n",
        "print('Finding mitigated models...')\n",
        "\n",
        "# Train multiple models\n",
        "sweep = GridSearch(DecisionTreeClassifier(),\n",
        "                   constraints=EqualizedOdds(),\n",
        "                   grid_size=20)\n",
        "\n",
        "sweep.fit(X_train, y_train, sensitive_features=S_train.Age)\n",
        "models = sweep.predictors_\n",
        "\n",
        "# Save the models and get predictions from them (plus the original unmitigated one for comparison)\n",
        "model_dir = 'mitigated_models'\n",
        "os.makedirs(model_dir, exist_ok=True)\n",
        "model_name = 'diabetes_unmitigated'\n",
        "print(model_name)\n",
        "joblib.dump(value=diabetes_model, filename=os.path.join(model_dir, '{0}.pkl'.format(model_name)))\n",
        "predictions = {model_name: diabetes_model.predict(X_test)}\n",
        "i = 0\n",
        "for model in models:\n",
        "    i += 1\n",
        "    model_name = 'diabetes_mitigated_{0}'.format(i)\n",
        "    print(model_name)\n",
        "    joblib.dump(value=model, filename=os.path.join(model_dir, '{0}.pkl'.format(model_name)))\n",
        "    predictions[model_name] = model.predict(X_test)\n"
      ],
      "outputs": [],
      "execution_count": null,
      "metadata": {}
    },
    {
      "cell_type": "markdown",
      "source": [
        "Sekarang Anda dapat menggunakan dasbor FairLearn untuk membandingkan model yang dimitigasi:\n",
        "\n",
        "Jalankan sel berikut lalu gunakan wizard untuk memvisualisasikan **Umur** dengan **Pengenalan**."
      ],
      "metadata": {}
    },
    {
      "cell_type": "code",
      "source": [
        "FairnessDashboard(sensitive_features=S_test,\n",
        "                   y_true=y_test,\n",
        "                   y_pred=predictions)"
      ],
      "outputs": [],
      "execution_count": null,
      "metadata": {}
    },
    {
      "cell_type": "markdown",
      "source": [
        "Model ditampilkan pada plot pencar. Anda dapat membandingkan model dengan mengukur perbedaan dalam prediksi (dengan kata lain, tingkat pemilihan) atau perbedaan dalam metrik performa yang dipilih (dalam hal ini, *pengenalan*). Dalam skenario ini, kami memperkirakan perbedaan dalam tingkat seleksi (karena kami tahu bahwa usia *adalah* faktor diabetes, dengan lebih banyak kasus positif pada kelompok usia yang lebih tua). Yang kami minati adalah perbedaan dalam performa prediktif, jadi pilih opsi untuk mengukur **Disparitas dalam ingatan**.\n",
        "\n",
        "Diagram menunjukkan kluster model dengan metrik *pengenalan* keseluruhan pada sumbu X, dan disparitas pengenalan pada sumbu Y. Oleh karena itu, model yang ideal (dengan daya pengenalan tinggi dan disparitas rendah) akan berada di sudut kanan bawah plot. Anda dapat memilih keseimbangan yang tepat antara performa prediktif dan kewajaran untuk kebutuhan khusus Anda, dan memilih model yang sesuai untuk melihat detailnya.\n",
        "\n",
        "Poin penting yang perlu diperkuat adalah bahwa menerapkan mitigasi kewajaran pada model adalah pertukaran antara performa prediktif keseluruhan dan perbedaan di seluruh grup fitur sensitif - umumnya Anda harus mengorbankan beberapa performa prediktif keseluruhan untuk memastikan bahwa model memprediksi secara adil untuk semua segmen populasi.\n",
        "\n",
        "> **Catatan**: Melihat metrik *presisi* dapat mengakibatkan peringatan bahwa presisi diatur ke 0,0 karena tidak ada sampel yang diprediksi - Anda dapat mengabaikannya.\n",
        "\n",
        "## Unggah metrik dasbor mitigasi ke Azure Machine Learning\n",
        "\n",
        "Seperti sebelumnya, Anda mungkin ingin melacak eksperimen mitigasi Anda. Untuk melakukan ini, Anda dapat:\n",
        "\n",
        "1. Mendaftarkan model yang ditemukan oleh proses GridSearch.\n",
        "2. Menghitung metrik performa dan perbedaan untuk model.\n",
        "3. Mengunggah metrik dalam eksperimen Azure Machine Learning."
      ],
      "metadata": {}
    },
    {
      "cell_type": "code",
      "source": [
        "# Register the models\n",
        "registered_model_predictions = dict()\n",
        "for model_name, prediction_data in predictions.items():\n",
        "    model_file = os.path.join(model_dir, model_name + \".pkl\")\n",
        "    registered_model = Model.register(model_path=model_file,\n",
        "                                      model_name=model_name,\n",
        "                                      workspace=ws)\n",
        "    registered_model_predictions[registered_model.id] = prediction_data\n",
        "\n",
        "#  Create a group metric set for binary classification based on the Age feature for all of the models\n",
        "sf = { 'Age': S_test.Age}\n",
        "dash_dict = _create_group_metric_set(y_true=y_test,\n",
        "                                     predictions=registered_model_predictions,\n",
        "                                     sensitive_features=sf,\n",
        "                                     prediction_type='binary_classification')\n",
        "\n",
        "exp = Experiment(ws, \"mslearn-diabetes-fairness\")\n",
        "print(exp)\n",
        "\n",
        "run = exp.start_logging()\n",
        "RunDetails(run).show()\n",
        "\n",
        "# Upload the dashboard to Azure Machine Learning\n",
        "try:\n",
        "    dashboard_title = \"Fairness Comparison of Diabetes Models\"\n",
        "    upload_id = upload_dashboard_dictionary(run,\n",
        "                                            dash_dict,\n",
        "                                            dashboard_name=dashboard_title)\n",
        "    print(\"\\nUploaded to id: {0}\\n\".format(upload_id))\n",
        "finally:\n",
        "    run.complete()"
      ],
      "outputs": [],
      "execution_count": null,
      "metadata": {}
    },
    {
      "cell_type": "markdown",
      "source": [
        "> **Catatan**: Peringatan bahwa presisi sedang diatur ke 0,0 karena tidak ada sampel yang diprediksi dapat ditampilkan - Anda dapat mengabaikannya.\n",
        "\n",
        "\n",
        "Saat eksperimen selesai berjalan, klik tautan **Lihat detail Eksekusi** di widget untuk melihat eksekusi di studio Azure Machine Learning (Anda mungkin perlu menggulir melewati output awal untuk melihat widget), dan melihat dasbor FairLearn pada tab **kewajaran**."
      ],
      "metadata": {}
    }
  ],
  "metadata": {
    "kernelspec": {
      "name": "python38-azureml",
      "language": "python",
      "display_name": "Python 3.8 - AzureML"
    },
    "language_info": {
      "name": "python",
      "version": "3.8.5",
      "mimetype": "text/x-python",
      "codemirror_mode": {
        "name": "ipython",
        "version": 3
      },
      "pygments_lexer": "ipython3",
      "nbconvert_exporter": "python",
      "file_extension": ".py"
    },
    "kernel_info": {
      "name": "python38-azureml"
    },
    "nteract": {
      "version": "nteract-front-end@1.0.0"
    }
  },
  "nbformat": 4,
  "nbformat_minor": 0
}