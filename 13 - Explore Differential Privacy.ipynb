{
  "cells": [
    {
      "cell_type": "markdown",
      "source": [
        "# Menjelajahi Privasi Diferensial\n",
        "\n",
        "Proyek pembelajaran mesin biasanya melibatkan proses berulang analisis data untuk mendapatkan wawasan tentang data dan menentukan variabel mana yang paling mungkin membantu membangun model prediktif. Menganalisis data biasanya melibatkan fungsi agregat dan statistik yang memberikan wawasan tentang distribusi statistik variabel dan hubungan di antara keduanya. Dengan volume data yang besar, agregasi memberikan tingkat abstraksi; tetapi dengan jumlah data yang lebih kecil, atau dengan analisis berulang, bahkan hasil agregasi dapat mengungkapkan detail tentang masing-masing pengamatan.\n",
        "\n",
        "*Privasi diferensial* adalah teknik yang dirancang untuk menjaga privasi masing-masing poin data dengan menambahkan \"derau\" ke data. Tujuannya adalah untuk memastikan bahwa derau yang cukup ditambahkan untuk memberikan privasi bagi masing-masing nilai sambil memastikan bahwa susunan statistik keseluruhan data tetap konsisten, dan agregasi menghasilkan hasil yang serupa secara statistik seperti ketika digunakan dengan data mentah asli.\n",
        "\n",
        "## Menginstal SDK SmartNoise\n",
        "\n",
        "[*SmartNoise*](https://smartnoise.org/) adalah kotak alat dari OpenDP; sebuah proyek gabungan antara peneliti di Microsoft, Harvard University, dan kontributor lain yang bertujuan untuk menyediakan blok penyusun untuk menggunakan privasi diferensial dalam analisis data dan proyek pembelajaran mesin.\n",
        "\n",
        "> **Catatan**: SmartNoise sedang dalam tahap awal pengembangan saat ini.\n",
        "\n",
        "Mari kita mulai dengan menginstal paket SDK Python SmartNoise. Anda dapat mengabaikan kesalahan apa pun tentang kompatibilitas Azure CLI dalam latihan ini."
      ],
      "metadata": {}
    },
    {
      "cell_type": "code",
      "source": [
        "pip install opendp-smartnoise==0.1.4.2"
      ],
      "outputs": [],
      "execution_count": null,
      "metadata": {
        "scrolled": true,
        "vscode": {
          "languageId": "python"
        },
        "gather": {
          "logged": 1649368281268
        }
      }
    },
    {
      "cell_type": "markdown",
      "source": [
        "## Memuat data\n",
        "\n",
        "Sekarang, mari kita lihat beberapa data mentah. Dalam kasus ini, kita memiliki 10.000 catatan untuk pasien yang telah diperiksa untuk diabetes."
      ],
      "metadata": {}
    },
    {
      "cell_type": "code",
      "source": [
        "import pandas as pd\n",
        "\n",
        "data_path = 'data/diabetes.csv'\n",
        "diabetes = pd.read_csv(data_path)\n",
        "diabetes.describe()"
      ],
      "outputs": [],
      "execution_count": null,
      "metadata": {
        "vscode": {
          "languageId": "python"
        },
        "gather": {
          "logged": 1649368211753
        }
      }
    },
    {
      "cell_type": "markdown",
      "source": [
        "Output dari kode di atas menunjukkan statistik ringkasan utama untuk variabel dalam himpunan data diabetes.\n",
        "\n",
        "## Melakukan analisis\n",
        "\n",
        "Anda dapat menggunakan SmartNoise untuk membuat analisis yang menambahkan derau ke data sumber. Matematika yang mendasari cara derau ditambahkan dapat menjadi sangat kompleks, tetapi SmartNoise menangani sebagian besar detail untuk Anda. Tetapi, ada beberapa konsep yang berguna untuk diperhatikan.\n",
        "\n",
        "- **Batas atas dan bawah**: *Clamping* digunakan untuk mengatur batas atas dan bawah pada nilai untuk variabel. Ini diperlukan untuk memastikan bahwa derau yang dihasilkan oleh SmartNoise konsisten dengan distribusi yang diharapkan dari data asli.\n",
        "**Ukuran sampel**: Untuk menghasilkan data privat berbeda yang konsisten untuk beberapa agregasi, SmartNoise perlu mengetahui ukuran sampel data yang akan dihasilkan.\n",
        "- **Epsilon**: Sederhananya, *epsilon* adalah nilai non-negatif yang memberikan ukuran kebalikan dari jumlah derau yang ditambahkan ke data. Epsilon yang rendah menghasilkan himpunan data dengan tingkat privasi yang lebih besar, sedangkan epsilon yang tinggi menghasilkan himpunan data yang lebih mendekati data asli. Umumnya, Anda harus menggunakan nilai epsilon antara 0 dan 1. Epsilon berkorelasi dengan nilai lain bernama *delta*, yang menunjukkan peluang bahwa laporan yang dihasilkan oleh analisis tidak sepenuhnya privat.\n",
        "\n",
        "Dengan mengingat konsep-konsep ini, periksa dan jalankan kode berikut, yang membuat analisis dan melaporkan nilai **Usia** rata-rata dari data privat yang berbeda. Nilai rata-rata aktual dari data mentah asli juga ditampilkan untuk perbandingan."
      ],
      "metadata": {}
    },
    {
      "cell_type": "code",
      "source": [
        "import opendp.smartnoise.core as sn\n",
        "\n",
        "cols = list(diabetes.columns)\n",
        "age_range = [0.0, 120.0]\n",
        "samples = len(diabetes)\n",
        "\n",
        "with sn.Analysis() as analysis:\n",
        "    # load data\n",
        "    data = sn.Dataset(path=data_path, column_names=cols)\n",
        "    \n",
        "    # Convert Age to float\n",
        "    age_dt = sn.to_float(data['Age'])\n",
        "    \n",
        "    # get mean of age\n",
        "    age_mean = sn.dp_mean(data = age_dt,\n",
        "                          privacy_usage = {'epsilon': .50},\n",
        "                          data_lower = age_range[0],\n",
        "                          data_upper = age_range[1],\n",
        "                          data_rows = samples\n",
        "                         )\n",
        "    \n",
        "analysis.release()\n",
        "\n",
        "# print differentially private estimate of mean age\n",
        "print(\"Private mean age:\",age_mean.value)\n",
        "\n",
        "# print actual mean age\n",
        "print(\"Actual mean age:\",diabetes.Age.mean())"
      ],
      "outputs": [],
      "execution_count": null,
      "metadata": {
        "vscode": {
          "languageId": "python"
        }
      }
    },
    {
      "cell_type": "markdown",
      "source": [
        "## Menjelajahi distribusi data dengan histogram\n",
        "\n",
        "Merupakan hal yang umum ketika menganalisis data untuk memeriksa distribusi variabel menggunakan histogram.\n",
        "\n",
        "Sebagai contoh, mari kita lihat distribusi usia yang sebenarnya dalam himpunan data diabetes."
      ],
      "metadata": {}
    },
    {
      "cell_type": "code",
      "source": [
        "import matplotlib.pyplot as plt\n",
        "import numpy as np\n",
        "%matplotlib inline\n",
        "\n",
        "ages = list(range(0, 130, 10))\n",
        "age = diabetes.Age\n",
        "\n",
        "# Plot a histogram with 10-year bins\n",
        "n_age, bins, patches = plt.hist(age, bins=ages, color='blue', alpha=0.7, rwidth=0.85)\n",
        "plt.grid(axis='y', alpha=0.75)\n",
        "plt.xlabel('Age')\n",
        "plt.ylabel('Frequency')\n",
        "plt.title('True Age Distribution')\n",
        "plt.show()\n",
        "print(n_age.astype(int))"
      ],
      "outputs": [],
      "execution_count": null,
      "metadata": {
        "vscode": {
          "languageId": "python"
        }
      }
    },
    {
      "cell_type": "markdown",
      "source": [
        "Sekarang mari kita bandingkan histogram Usia privat yang berbeda."
      ],
      "metadata": {}
    },
    {
      "cell_type": "code",
      "source": [
        "import matplotlib.pyplot as plt\n",
        "\n",
        "with sn.Analysis() as analysis:\n",
        "    data = sn.Dataset(path = data_path, column_names = cols)\n",
        "\n",
        "    age_histogram = sn.dp_histogram(\n",
        "            sn.to_int(data['Age'], lower=0, upper=120),\n",
        "            edges = ages,\n",
        "            upper = 10000,\n",
        "            null_value = -1,\n",
        "            privacy_usage = {'epsilon': 0.5}\n",
        "        )\n",
        "    \n",
        "analysis.release()\n",
        "\n",
        "plt.ylim([0,7000])\n",
        "width=4\n",
        "agecat_left = [x + width for x in ages]\n",
        "agecat_right = [x + 2*width for x in ages]\n",
        "plt.bar(list(range(0,120,10)), n_age, width=width, color='blue', alpha=0.7, label='True')\n",
        "plt.bar(agecat_left, age_histogram.value, width=width, color='orange', alpha=0.7, label='Private')\n",
        "plt.legend()\n",
        "plt.title('Histogram of Age')\n",
        "plt.xlabel('Age')\n",
        "plt.ylabel('Frequency')\n",
        "plt.show()\n",
        "\n",
        "print(age_histogram.value)"
      ],
      "outputs": [],
      "execution_count": null,
      "metadata": {
        "vscode": {
          "languageId": "python"
        }
      }
    },
    {
      "cell_type": "markdown",
      "source": [
        "Histogram cukup mirip untuk memastikan bahwa laporan berdasarkan data privat yang berbeda memberikan wawasan yang sama seperti laporan dari data mentah.\n",
        "\n",
        "## Menghitung kovarian\n",
        "\n",
        "Tujuan umum lainnya dari analisis adalah untuk membangun hubungan antar variabel. SmartNoise menyediakan fungsi *kovarian* privat yang berbeda yang dapat membantu dalam hal ini."
      ],
      "metadata": {}
    },
    {
      "cell_type": "code",
      "source": [
        "with sn.Analysis() as analysis:\n",
        "    sn_data = sn.Dataset(path = data_path, column_names = cols)\n",
        "\n",
        "    age_bp_cov_scalar = sn.dp_covariance(\n",
        "                left = sn.to_float(sn_data['Age']),\n",
        "                right = sn.to_float(sn_data['DiastolicBloodPressure']),\n",
        "                privacy_usage = {'epsilon': 1.0},\n",
        "                left_lower = 0.,\n",
        "                left_upper = 120.,\n",
        "                left_rows = 10000,\n",
        "                right_lower = 0.,\n",
        "                right_upper = 150.,\n",
        "                right_rows = 10000)\n",
        "analysis.release()\n",
        "print('Differentially private covariance: {0}'.format(age_bp_cov_scalar.value[0][0]))\n",
        "print('Actual covariance', diabetes.Age.cov(diabetes.DiastolicBloodPressure))"
      ],
      "outputs": [],
      "execution_count": null,
      "metadata": {
        "vscode": {
          "languageId": "python"
        }
      }
    },
    {
      "cell_type": "markdown",
      "source": [
        "Dalam kasus ini, kovarian antara **Usia** dan **DisatolicBloodPressure** adalah positif, yang menunjukkan bahwa pasien yang lebih tua cenderung memiliki tekanan darah yang lebih tinggi.\n",
        "\n",
        "## Menggunakan kueri SQL\n",
        "\n",
        "Selain fungsionalitas **Analisis**, SmartNoise memungkinkan Anda menggunakan kueri SQL terhadap sumber data untuk mengambil hasil agregat privat yang berbeda.\n",
        "\n",
        "Pertama, Anda perlu menentukan metadata untuk tabel dalam skema data Anda. Anda dapat melakukan hal ini di file .yml, seperti file **diabetes.yml** di folder **/metadata**. Metadata menjelaskan bidang dalam tabel, termasuk tipe data dan nilai minimum dan maksimum untuk bidang numerik."
      ],
      "metadata": {}
    },
    {
      "cell_type": "code",
      "source": [
        "from opendp.smartnoise.metadata import CollectionMetadata\n",
        "\n",
        "meta = CollectionMetadata.from_file('metadata/diabetes.yml')\n",
        "print (meta)"
      ],
      "outputs": [],
      "execution_count": null,
      "metadata": {
        "vscode": {
          "languageId": "python"
        }
      }
    },
    {
      "cell_type": "markdown",
      "source": [
        "Dengan metadata yang ditentukan, Anda dapat membuat *pembaca* yang dapat Anda kueri. Dalam contoh berikut, kita akan membuat **PandasReader** untuk membaca data mentah dari kerangka data Pandas, dan **PrivateReader** yang menambahkan lapisan privasi diferensial ke **PandasReader**."
      ],
      "metadata": {}
    },
    {
      "cell_type": "code",
      "source": [
        "from opendp.smartnoise.sql import PandasReader, PrivateReader\n",
        "\n",
        "reader = PandasReader(diabetes, meta)\n",
        "private_reader = PrivateReader(reader=reader, metadata=meta, epsilon_per_column=0.7)\n",
        "print('Readers ready.')"
      ],
      "outputs": [],
      "execution_count": null,
      "metadata": {
        "scrolled": false,
        "vscode": {
          "languageId": "python"
        }
      }
    },
    {
      "cell_type": "markdown",
      "source": [
        "Sekarang Anda dapat mengirimkan kueri SQL yang mengembalikan kumpulan hasil agregat ke pembaca privat."
      ],
      "metadata": {}
    },
    {
      "cell_type": "code",
      "source": [
        "query = 'SELECT Diabetic, AVG(Age) AS AvgAge FROM diabetes.diabetes GROUP BY Diabetic'\n",
        "\n",
        "result_dp = private_reader.execute(query)\n",
        "print(result_dp)"
      ],
      "outputs": [],
      "execution_count": null,
      "metadata": {
        "vscode": {
          "languageId": "python"
        }
      }
    },
    {
      "cell_type": "markdown",
      "source": [
        "Mari kita bandingkan hasilnya dengan agregasi yang sama dari data mentah."
      ],
      "metadata": {}
    },
    {
      "cell_type": "code",
      "source": [
        "result = reader.execute(query)\n",
        "print(result)"
      ],
      "outputs": [],
      "execution_count": null,
      "metadata": {
        "vscode": {
          "languageId": "python"
        }
      }
    },
    {
      "cell_type": "markdown",
      "source": [
        "Anda dapat menyesuaikan perilaku **PrivateReader** dengan **parameter epsilon_per_column**.\n",
        "\n",
        "Mari kita coba pembaca dengan nilai epsilon (privasi rendah) tinggi, dan satu lagi dengan nilai epsilon (privasi tinggi) rendah."
      ],
      "metadata": {}
    },
    {
      "cell_type": "code",
      "source": [
        "low_privacy_reader = PrivateReader(reader, meta, 5.0)  # large epsilon, less privacy\n",
        "result = low_privacy_reader.execute(query)\n",
        "print(result)\n",
        "print()\n",
        "\n",
        "high_privacy_reader = PrivateReader(reader, meta, 0.1)  # smaller epsilon, more privacy\n",
        "result = high_privacy_reader.execute(query)\n",
        "print(result)"
      ],
      "outputs": [],
      "execution_count": null,
      "metadata": {
        "vscode": {
          "languageId": "python"
        }
      }
    },
    {
      "cell_type": "markdown",
      "source": [
        "Perhatikan bahwa hasil pembaca epsilon (privasi rendah) tinggi lebih mendekati hasil sebenarnya dari data mentah daripada hasil dari pembaca epsilon (privasi tinggi) rendah.\n",
        "\n",
        "## Mempelajari selengkapnya\n",
        "\n",
        "Untuk mempelajari selengkapnya tentang privasi diferensial dengan SmartNoise, lihat [https://smartnoise.org](https://smartnoise.org/)"
      ],
      "metadata": {}
    }
  ],
  "metadata": {
    "kernelspec": {
      "name": "python38-azureml",
      "language": "python",
      "display_name": "Python 3.8 - AzureML"
    },
    "language_info": {
      "name": "python",
      "version": "3.8.5",
      "mimetype": "text/x-python",
      "codemirror_mode": {
        "name": "ipython",
        "version": 3
      },
      "pygments_lexer": "ipython3",
      "nbconvert_exporter": "python",
      "file_extension": ".py"
    },
    "kernel_info": {
      "name": "python38-azureml"
    },
    "nteract": {
      "version": "nteract-front-end@1.0.0"
    }
  },
  "nbformat": 4,
  "nbformat_minor": 0
}