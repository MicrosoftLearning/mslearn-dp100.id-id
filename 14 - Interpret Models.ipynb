{
 "cells": [
  {
   "cell_type": "markdown",
   "metadata": {},
   "source": [
    "# Menginterpretasikan Model\n",
    "\n",
    "Anda dapat menggunakan Azure Machine Learning untuk menginterpretasikan model dengan menggunakan *explainer* yang mengkuantifikasi jumlah pengaruh yang disumbangkan setiap fitur pada label yang diprediksi. Ada banyak penjelasan umum, masing-masing cocok untuk berbagai jenis algoritma pemodelan; tetapi pendekatan dasar untuk menggunakannya adalah sama.\n",
    "\n",
    "## Menginstal paket SDK\n",
    "\n",
    "Selain versi terbaru paket **azureml-sdk** dan **azureml-widgets**, Anda memerlukan paket **azureml-explain-model** untuk menjalankan kode di notebook ini. Anda juga akan menggunakan perpustakaan Azure ML Interpretability (**azureml-interpret**). Anda dapat menggunakan ini untuk menafsirkan berbagai jenis model biasa, bahkan jika model tersebut belum dilatih dalam eksperimen Azure ML atau terdaftar di ruang kerja Azure ML.\n",
    "\n",
    "Jalankan sel di bawah ini untuk memverifikasi bahwa paket-paket ini diinstal. "
   ]
  },
  {
   "cell_type": "code",
   "execution_count": null,
   "metadata": {
    "gather": {
     "logged": 1649368363682
    },
    "vscode": {
     "languageId": "python"
    }
   },
   "outputs": [],
   "source": [
    "pip show azureml-explain-model azureml-interpret"
   ]
  },
  {
   "cell_type": "markdown",
   "metadata": {},
   "source": [
    "## Menjelaskan model\n",
    "\n",
    "Mari kita mulai dengan model yang dilatih di luar Azure Machine Learning - Jalankan sel di bawah ini untuk melatih model klasifikasi pohon keputusan."
   ]
  },
  {
   "cell_type": "code",
   "execution_count": null,
   "metadata": {
    "vscode": {
     "languageId": "python"
    }
   },
   "outputs": [],
   "source": [
    "import pandas as pd\n",
    "import numpy as np\n",
    "import joblib\n",
    "from sklearn.model_selection import train_test_split\n",
    "from sklearn.tree import DecisionTreeClassifier\n",
    "from sklearn.metrics import roc_auc_score\n",
    "from sklearn.metrics import roc_curve\n",
    "\n",
    "# load the diabetes dataset\n",
    "print(\"Loading Data...\")\n",
    "data = pd.read_csv('data/diabetes.csv')\n",
    "\n",
    "# Separate features and labels\n",
    "features = ['Pregnancies','PlasmaGlucose','DiastolicBloodPressure','TricepsThickness','SerumInsulin','BMI','DiabetesPedigree','Age']\n",
    "labels = ['not-diabetic', 'diabetic']\n",
    "X, y = data[features].values, data['Diabetic'].values\n",
    "\n",
    "# Split data into training set and test set\n",
    "X_train, X_test, y_train, y_test = train_test_split(X, y, test_size=0.30, random_state=0)\n",
    "\n",
    "# Train a decision tree model\n",
    "print('Training a decision tree model')\n",
    "model = DecisionTreeClassifier().fit(X_train, y_train)\n",
    "\n",
    "# calculate accuracy\n",
    "y_hat = model.predict(X_test)\n",
    "acc = np.average(y_hat == y_test)\n",
    "print('Accuracy:', acc)\n",
    "\n",
    "# calculate AUC\n",
    "y_scores = model.predict_proba(X_test)\n",
    "auc = roc_auc_score(y_test,y_scores[:,1])\n",
    "print('AUC: ' + str(auc))\n",
    "\n",
    "print('Model trained.')"
   ]
  },
  {
   "cell_type": "markdown",
   "metadata": {},
   "source": [
    "Proses pelatihan menghasilkan beberapa metrik evaluasi model berdasarkan dataset validasi hold-back, sehingga Anda memiliki gagasan tentang seberapa akurat prediksinya; tetapi bagaimana fitur dalam data memengaruhi prediksi?"
   ]
  },
  {
   "cell_type": "markdown",
   "metadata": {},
   "source": [
    "### Dapatkan penjelasan untuk model\n",
    "\n",
    "Mari dapatkan penjelasan yang sesuai untuk model dari pustaka interpretabilitas Azure ML yang Anda instal sebelumnya. Ada banyak jenis eksplanatori. Dalam contoh ini Anda akan menggunakan *Tabular Explainer*, yang merupakan penjelasan \"kotak hitam\" yang dapat digunakan untuk menjelaskan berbagai jenis model dengan menjalankan [SHAP](https://github.com/slundberg/shap ) penjelas model."
   ]
  },
  {
   "cell_type": "code",
   "execution_count": null,
   "metadata": {
    "vscode": {
     "languageId": "python"
    }
   },
   "outputs": [],
   "source": [
    "from interpret.ext.blackbox import TabularExplainer\n",
    "\n",
    "# \"features\" and \"classes\" fields are optional\n",
    "tab_explainer = TabularExplainer(model,\n",
    "                             X_train, \n",
    "                             features=features, \n",
    "                             classes=labels)\n",
    "print(tab_explainer, \"ready!\")"
   ]
  },
  {
   "cell_type": "markdown",
   "metadata": {},
   "source": [
    "### Mendapatkan pentingnya fitur *global*\n",
    "\n",
    "Hal pertama yang harus dilakukan adalah mencoba menjelaskan model dengan mengevaluasi *pentingnya fitur* secara keseluruhan - dengan kata lain, mengukur sejauh mana setiap fitur memengaruhi prediksi berdasarkan keseluruhan himpunan data pelatihan."
   ]
  },
  {
   "cell_type": "code",
   "execution_count": null,
   "metadata": {
    "vscode": {
     "languageId": "python"
    }
   },
   "outputs": [],
   "source": [
    "# you can use the training data or the test data here\n",
    "global_tab_explanation = tab_explainer.explain_global(X_train)\n",
    "\n",
    "# Get the top features by importance\n",
    "global_tab_feature_importance = global_tab_explanation.get_feature_importance_dict()\n",
    "for feature, importance in global_tab_feature_importance.items():\n",
    "    print(feature,\":\", importance)"
   ]
  },
  {
   "cell_type": "markdown",
   "metadata": {},
   "source": [
    "Kepentingan fitur diberi peringkat, dengan fitur yang paling penting dicantumkan pertama.\n",
    "\n",
    "### Mendapatkan pentingnya fitur *lokal*\n",
    "\n",
    "Jadi Anda memiliki pandangan keseluruhan, tetapi bagaimana dengan menjelaskan pengamatan individu? Mari buat penjelasan *lokal* untuk prediksi individu, dengan mengukur sejauh mana setiap fitur memengaruhi keputusan untuk memprediksi setiap kemungkinan nilai label. Dalam hal ini, ini adalah model biner, jadi ada dua kemungkinan label (non-diabetes dan diabetes); dan Anda dapat mengukur pengaruh setiap fitur untuk masing-masing nilai label ini untuk pengamatan individual dalam himpunan data. Anda hanya akan mengevaluasi dua kasus pertama dalam himpunan data pengujian."
   ]
  },
  {
   "cell_type": "code",
   "execution_count": null,
   "metadata": {
    "scrolled": false,
    "vscode": {
     "languageId": "python"
    }
   },
   "outputs": [],
   "source": [
    "# Get the observations we want to explain (the first two)\n",
    "X_explain = X_test[0:2]\n",
    "\n",
    "# Get predictions\n",
    "predictions = model.predict(X_explain)\n",
    "\n",
    "# Get local explanations\n",
    "local_tab_explanation = tab_explainer.explain_local(X_explain)\n",
    "\n",
    "# Get feature names and importance for each possible label\n",
    "local_tab_features = local_tab_explanation.get_ranked_local_names()\n",
    "local_tab_importance = local_tab_explanation.get_ranked_local_values()\n",
    "\n",
    "for l in range(len(local_tab_features)):\n",
    "    print('Support for', labels[l])\n",
    "    label = local_tab_features[l]\n",
    "    for o in range(len(label)):\n",
    "        print(\"\\tObservation\", o + 1)\n",
    "        feature_list = label[o]\n",
    "        total_support = 0\n",
    "        for f in range(len(feature_list)):\n",
    "            print(\"\\t\\t\", feature_list[f], ':', local_tab_importance[l][o][f])\n",
    "            total_support += local_tab_importance[l][o][f]\n",
    "        print(\"\\t\\t ----------\\n\\t\\t Total:\", total_support, \"Prediction:\", labels[predictions[o]])"
   ]
  },
  {
   "cell_type": "markdown",
   "metadata": {},
   "source": [
    "## Menambahkan kemampuan untuk menjelaskan eksperimen pelatihan model\n",
    "\n",
    "Seperti yang Anda lihat, Anda dapat membuat penjelasan untuk model yang dilatih di luar Azure Machine Learning; tetapi saat Anda menggunakan eksperimen untuk melatih dan mendaftarkan model di ruang kerja Azure Machine Learning, Anda bisa membuat penjelasan model dan mencatatnya.\n",
    "\n",
    "Jalankan kode di sel berikut untuk terhubung ke ruang kerja Anda.\n",
    "\n",
    "> **Catatan**: Jika Anda belum membuat sesi yang terautentikasi dengan langganan Azure, Anda akan diminta untuk mengautentikasi dengan mengklik tautan, memasukkan kode autentikasi, dan masuk ke Azure."
   ]
  },
  {
   "cell_type": "code",
   "execution_count": null,
   "metadata": {
    "vscode": {
     "languageId": "python"
    }
   },
   "outputs": [],
   "source": [
    "import azureml.core\n",
    "from azureml.core import Workspace\n",
    "\n",
    "# Load the workspace from the saved config file\n",
    "ws = Workspace.from_config()\n",
    "print('Ready to use Azure ML {} to work with {}'.format(azureml.core.VERSION, ws.name))"
   ]
  },
  {
   "cell_type": "markdown",
   "metadata": {},
   "source": [
    "### Melatih dan jelaskan model menggunakan eksperimen\n",
    "\n",
    "Oke, mari buat eksperimen dan letakkan file yang dibutuhkan di folder lokal - dalam hal ini kita hanya akan menggunakan file CSV data diabetes yang sama untuk melatih model."
   ]
  },
  {
   "cell_type": "code",
   "execution_count": null,
   "metadata": {
    "vscode": {
     "languageId": "python"
    }
   },
   "outputs": [],
   "source": [
    "import os, shutil\n",
    "from azureml.core import Experiment\n",
    "\n",
    "# Create a folder for the experiment files\n",
    "experiment_folder = 'diabetes_train_and_explain'\n",
    "os.makedirs(experiment_folder, exist_ok=True)\n",
    "\n",
    "# Copy the data file into the experiment folder\n",
    "shutil.copy('data/diabetes.csv', os.path.join(experiment_folder, \"diabetes.csv\"))"
   ]
  },
  {
   "cell_type": "markdown",
   "metadata": {},
   "source": [
    "Sekarang kita akan membuat skrip pelatihan yang terlihat mirip dengan skrip pelatihan Azure ML lainnya kecuali yang menyertakan fitur berikut:\n",
    "\n",
    "- Pustaka yang sama untuk menghasilkan penjelasan model yang kami gunakan sebelumnya diimpor dan digunakan untuk menghasilkan penjelasan global\n",
    "- Pustaka **ExplanationClient** digunakan untuk mengunggah penjelasan ke hasil eksperimen"
   ]
  },
  {
   "cell_type": "code",
   "execution_count": null,
   "metadata": {
    "vscode": {
     "languageId": "python"
    }
   },
   "outputs": [],
   "source": [
    "%%writefile $experiment_folder/diabetes_training.py\n",
    "# Import libraries\n",
    "import pandas as pd\n",
    "import numpy as np\n",
    "import joblib\n",
    "import os\n",
    "from sklearn.model_selection import train_test_split\n",
    "from sklearn.tree import DecisionTreeClassifier\n",
    "from sklearn.metrics import roc_auc_score\n",
    "from sklearn.metrics import roc_curve\n",
    "\n",
    "# Import Azure ML run library\n",
    "from azureml.core.run import Run\n",
    "\n",
    "# Import libraries for model explanation\n",
    "from azureml.interpret import ExplanationClient\n",
    "from interpret.ext.blackbox import TabularExplainer\n",
    "\n",
    "# Get the experiment run context\n",
    "run = Run.get_context()\n",
    "\n",
    "# load the diabetes dataset\n",
    "print(\"Loading Data...\")\n",
    "data = pd.read_csv('diabetes.csv')\n",
    "\n",
    "features = ['Pregnancies','PlasmaGlucose','DiastolicBloodPressure','TricepsThickness','SerumInsulin','BMI','DiabetesPedigree','Age']\n",
    "labels = ['not-diabetic', 'diabetic']\n",
    "\n",
    "# Separate features and labels\n",
    "X, y = data[features].values, data['Diabetic'].values\n",
    "\n",
    "# Split data into training set and test set\n",
    "X_train, X_test, y_train, y_test = train_test_split(X, y, test_size=0.30, random_state=0)\n",
    "\n",
    "# Train a decision tree model\n",
    "print('Training a decision tree model')\n",
    "model = DecisionTreeClassifier().fit(X_train, y_train)\n",
    "\n",
    "# calculate accuracy\n",
    "y_hat = model.predict(X_test)\n",
    "acc = np.average(y_hat == y_test)\n",
    "run.log('Accuracy', np.float(acc))\n",
    "\n",
    "# calculate AUC\n",
    "y_scores = model.predict_proba(X_test)\n",
    "auc = roc_auc_score(y_test,y_scores[:,1])\n",
    "run.log('AUC', np.float(auc))\n",
    "\n",
    "os.makedirs('outputs', exist_ok=True)\n",
    "# note file saved in the outputs folder is automatically uploaded into experiment record\n",
    "joblib.dump(value=model, filename='outputs/diabetes.pkl')\n",
    "\n",
    "# Get explanation\n",
    "explainer = TabularExplainer(model, X_train, features=features, classes=labels)\n",
    "explanation = explainer.explain_global(X_test)\n",
    "\n",
    "# Get an Explanation Client and upload the explanation\n",
    "explain_client = ExplanationClient.from_run(run)\n",
    "explain_client.upload_model_explanation(explanation, comment='Tabular Explanation')\n",
    "\n",
    "# Complete the run\n",
    "run.complete()"
   ]
  },
  {
   "cell_type": "markdown",
   "metadata": {},
   "source": [
    "Eksperimen membutuhkan lingkungan Python untuk menjalankan skrip, jadi kami akan mendefinisikan spesifikasi Conda untuknya. Perhatikan bahwa pustaka **azureml-interpret** disertakan dalam lingkungan pelatihan sehingga skrip dapat membuat **TabularExplainer** dan menggunakan kelas **ExplainerClient**."
   ]
  },
  {
   "cell_type": "code",
   "execution_count": null,
   "metadata": {
    "vscode": {
     "languageId": "python"
    }
   },
   "outputs": [],
   "source": [
    "%%writefile $experiment_folder/interpret_env.yml\n",
    "name: batch_environment\n",
    "dependencies:\n",
    "- python=3.6.2\n",
    "- scikit-learn\n",
    "- pandas\n",
    "- pip\n",
    "- pip:\n",
    "  - azureml-defaults\n",
    "  - azureml-interpret"
   ]
  },
  {
   "cell_type": "markdown",
   "metadata": {},
   "source": [
    "Sekarang Anda dapat menjalankan eksperimen."
   ]
  },
  {
   "cell_type": "code",
   "execution_count": null,
   "metadata": {
    "vscode": {
     "languageId": "python"
    }
   },
   "outputs": [],
   "source": [
    "from azureml.core import Experiment, ScriptRunConfig, Environment\n",
    "from azureml.core.runconfig import DockerConfiguration\n",
    "from azureml.widgets import RunDetails\n",
    "\n",
    "\n",
    "# Create a Python environment for the experiment\n",
    "explain_env = Environment.from_conda_specification(\"explain_env\", experiment_folder + \"/interpret_env.yml\")\n",
    "\n",
    "# Create a script config\n",
    "script_config = ScriptRunConfig(source_directory=experiment_folder,\n",
    "                      script='diabetes_training.py',\n",
    "                      environment=explain_env,\n",
    "                      docker_runtime_config=DockerConfiguration(use_docker=True)) \n",
    "\n",
    "# submit the experiment\n",
    "experiment_name = 'mslearn-diabetes-explain'\n",
    "experiment = Experiment(workspace=ws, name=experiment_name)\n",
    "run = experiment.submit(config=script_config)\n",
    "RunDetails(run).show()\n",
    "run.wait_for_completion()"
   ]
  },
  {
   "cell_type": "markdown",
   "metadata": {},
   "source": [
    "## Mengambil nilai pentingnya fitur\n",
    "\n",
    "Setelah percobaan berjalan selesai, Anda dapat menggunakan kelas **ExplanationClient** untuk mengambil pentingnya fitur dari penjelasan yang terdaftar untuk percobaan tersebut."
   ]
  },
  {
   "cell_type": "code",
   "execution_count": null,
   "metadata": {
    "vscode": {
     "languageId": "python"
    }
   },
   "outputs": [],
   "source": [
    "from azureml.interpret import ExplanationClient\n",
    "\n",
    "# Get the feature explanations\n",
    "client = ExplanationClient.from_run(run)\n",
    "engineered_explanations = client.download_model_explanation()\n",
    "feature_importances = engineered_explanations.get_feature_importance_dict()\n",
    "\n",
    "# Overall feature importance\n",
    "print('Feature\\tImportance')\n",
    "for key, value in feature_importances.items():\n",
    "    print(key, '\\t', value)"
   ]
  },
  {
   "cell_type": "markdown",
   "metadata": {},
   "source": [
    "## Melihat penjelasan model di studio Azure Machine Learning\n",
    "\n",
    "Anda juga dapat mengeklik tautan **Lihat detail proses** di widget Run Details untuk melihat proses di studio Azure Machine Learning, dan melihat tab **Penjelasan**. Kemudian:\n",
    "\n",
    "1. Pilih ID penjelasan untuk penjelasan tabular Anda.\n",
    "2. Lihat bagan **Kepentingan fitur agregat**, yang menunjukkan pentingnya fitur global secara keseluruhan.\n",
    "3. Lihat bagan **Kepentingan fitur individu**, yang menunjukkan setiap titik data dari data pengujian.\n",
    "4. Pilih satu titik untuk melihat pentingnya fitur lokal untuk prediksi individual untuk titik data yang dipilih.\n",
    "5. Gunakan tombol **Kohor Baru** untuk menentukan subset data dengan setelan berikut:\n",
    "    - **Nama kohor himpunan data**: Di bawah 25 detik\n",
    "    - **Pilih filter**: Himpunan data\n",
    "        - Usia kurang dari 25 (Pastikan Anda menambahkan filter ini sebelum menyimpan kohor baru).\n",
    "6. Buat kohor baru kedua bernama **25 dan lebih** dengan filter pada Usia lebih besar dari atau sama dengan 25.\n",
    "6. Tinjau visualisasi **Kepentingan fitur agregat** dan bandingkan kepentingan fitur relatif untuk dua kohor yang telah Anda tetapkan. Kemampuan untuk membandingkan kohor memungkinkan untuk melihat bagaimana fitur mempengaruhi prediksi secara berbeda untuk beberapa himpunan bagian dari populasi data.\n",
    "\n"
   ]
  },
  {
   "cell_type": "markdown",
   "metadata": {},
   "source": [
    "**Informasi Lebih Lanjut**: Untuk informasi selengkapnya tentang menggunakan penjelasan di Azure ML, lihat [dokumentasi](https://docs.microsoft.com/azure/machine-learning/how-to-machine-learning-interpretability). "
   ]
  }
 ],
 "metadata": {
  "kernel_info": {
   "name": "python38-azureml"
  },
  "kernelspec": {
   "display_name": "Python 3.8 - AzureML",
   "language": "python",
   "name": "python38-azureml"
  },
  "language_info": {
   "codemirror_mode": {
    "name": "ipython",
    "version": 3
   },
   "file_extension": ".py",
   "mimetype": "text/x-python",
   "name": "python",
   "nbconvert_exporter": "python",
   "pygments_lexer": "ipython3",
   "version": "3.8.5"
  },
  "nteract": {
   "version": "nteract-front-end@1.0.0"
  }
 },
 "nbformat": 4,
 "nbformat_minor": 1
}
