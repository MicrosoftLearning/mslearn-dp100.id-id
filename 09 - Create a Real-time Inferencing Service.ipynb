{
  "cells": [
    {
      "cell_type": "markdown",
      "metadata": {},
      "source": [
        "# Membuat layanan inferensi real time\n",
        "\n",
        "Setelah melatih model prediktif, Anda dapat menyebarkannya sebagai layanan real time yang dapat digunakan klien untuk mendapatkan prediksi dari data baru."
      ]
    },
    {
      "cell_type": "markdown",
      "metadata": {},
      "source": [
        "## Menghubungkan ke ruang kerja Anda\n",
        "\n",
        "Untuk memulai, hubungkan ke ruang kerja Anda.\n",
        "\n",
        "> **Catatan**: Jika Anda belum membuat sesi yang terautentikasi dengan langganan Azure, Anda akan diminta untuk mengautentikasi dengan mengklik tautan, memasukkan kode autentikasi, dan masuk ke Azure."
      ]
    },
    {
      "cell_type": "code",
      "execution_count": null,
      "metadata": {
        "gather": {
          "logged": 1649367571437
        }
      },
      "outputs": [],
      "source": [
        "import azureml.core\n",
        "from azureml.core import Workspace\n",
        "\n",
        "# Load the workspace from the saved config file\n",
        "ws = Workspace.from_config()\n",
        "print('Ready to use Azure ML {} to work with {}'.format(azureml.core.VERSION, ws.name))"
      ]
    },
    {
      "cell_type": "markdown",
      "metadata": {},
      "source": [
        "## Melatih dan mendaftarkan model\n",
        "\n",
        "Sekarang mari kita melatih dan mendaftarkan model."
      ]
    },
    {
      "cell_type": "code",
      "execution_count": null,
      "metadata": {
        "gather": {
          "logged": 1649367606601
        }
      },
      "outputs": [],
      "source": [
        "from azureml.core import Experiment\n",
        "from azureml.core import Model\n",
        "import pandas as pd\n",
        "import numpy as np\n",
        "import joblib\n",
        "from sklearn.model_selection import train_test_split\n",
        "from sklearn.tree import DecisionTreeClassifier\n",
        "from sklearn.metrics import roc_auc_score\n",
        "from sklearn.metrics import roc_curve\n",
        "\n",
        "# Create an Azure ML experiment in your workspace\n",
        "experiment = Experiment(workspace=ws, name=\"mslearn-train-diabetes\")\n",
        "run = experiment.start_logging()\n",
        "print(\"Starting experiment:\", experiment.name)\n",
        "\n",
        "# load the diabetes dataset\n",
        "print(\"Loading Data...\")\n",
        "diabetes = pd.read_csv('data/diabetes.csv')\n",
        "\n",
        "# Separate features and labels\n",
        "X, y = diabetes[['Pregnancies','PlasmaGlucose','DiastolicBloodPressure','TricepsThickness','SerumInsulin','BMI','DiabetesPedigree','Age']].values, diabetes['Diabetic'].values\n",
        "\n",
        "# Split data into training set and test set\n",
        "X_train, X_test, y_train, y_test = train_test_split(X, y, test_size=0.30, random_state=0)\n",
        "\n",
        "# Train a decision tree model\n",
        "print('Training a decision tree model')\n",
        "model = DecisionTreeClassifier().fit(X_train, y_train)\n",
        "\n",
        "# calculate accuracy\n",
        "y_hat = model.predict(X_test)\n",
        "acc = np.average(y_hat == y_test)\n",
        "print('Accuracy:', acc)\n",
        "run.log('Accuracy', np.float(acc))\n",
        "\n",
        "# calculate AUC\n",
        "y_scores = model.predict_proba(X_test)\n",
        "auc = roc_auc_score(y_test,y_scores[:,1])\n",
        "print('AUC: ' + str(auc))\n",
        "run.log('AUC', np.float(auc))\n",
        "\n",
        "# Save the trained model\n",
        "model_file = 'diabetes_model.pkl'\n",
        "joblib.dump(value=model, filename=model_file)\n",
        "run.upload_file(name = 'outputs/' + model_file, path_or_stream = './' + model_file)\n",
        "\n",
        "# Complete the run\n",
        "run.complete()\n",
        "\n",
        "# Register the model\n",
        "run.register_model(model_path='outputs/diabetes_model.pkl', model_name='diabetes_model',\n",
        "                   tags={'Training context':'Inline Training'},\n",
        "                   properties={'AUC': run.get_metrics()['AUC'], 'Accuracy': run.get_metrics()['Accuracy']})\n",
        "\n",
        "print('Model trained and registered.')"
      ]
    },
    {
      "cell_type": "markdown",
      "metadata": {},
      "source": [
        "## Menyebarkan model sebagai layanan web\n",
        "\n",
        "Anda telah melatih dan mendaftarkan model pembelajaran mesin yang mengklasifikasikan pasien berdasarkan kemungkinan mereka menderita diabetes. Model ini dapat digunakan dalam lingkungan produksi seperti operasi dokter di mana hanya pasien yang dianggap berisiko yang perlu menjalani uji klinis diabetes. Untuk mendukung skenario ini, Anda akan menyebarkan model sebagai layanan web.\n",
        "\n",
        "Pertama, mari kita tentukan model apa yang telah Anda daftarkan di ruang kerja."
      ]
    },
    {
      "cell_type": "code",
      "execution_count": null,
      "metadata": {},
      "outputs": [],
      "source": [
        "from azureml.core import Model\n",
        "\n",
        "for model in Model.list(ws):\n",
        "    print(model.name, 'version:', model.version)\n",
        "    for tag_name in model.tags:\n",
        "        tag = model.tags[tag_name]\n",
        "        print ('\\t',tag_name, ':', tag)\n",
        "    for prop_name in model.properties:\n",
        "        prop = model.properties[prop_name]\n",
        "        print ('\\t',prop_name, ':', prop)\n",
        "    print('\\n')"
      ]
    },
    {
      "cell_type": "markdown",
      "metadata": {},
      "source": [
        "Baiklah, sekarang mari kita dapatkan model yang ingin kita sebarkan. Secara default, jika kita menentukan nama model, versi terbaru akan dikembalikan."
      ]
    },
    {
      "cell_type": "code",
      "execution_count": null,
      "metadata": {},
      "outputs": [],
      "source": [
        "model = ws.models['diabetes_model']\n",
        "print(model.name, 'version', model.version)"
      ]
    },
    {
      "cell_type": "markdown",
      "metadata": {},
      "source": [
        "Kami akan membuat layanan web untuk menghosting model ini, dan ini akan memerlukan beberapa kode dan file konfigurasi; jadi mari kita buat folder untuk itu."
      ]
    },
    {
      "cell_type": "code",
      "execution_count": null,
      "metadata": {},
      "outputs": [],
      "source": [
        "import os\n",
        "\n",
        "# Create a folder for the deployment files\n",
        "deployment_folder = './diabetes_service'\n",
        "os.makedirs(deployment_folder, exist_ok=True)\n",
        "print(deployment_folder, 'folder created.')\n",
        "\n",
        "# Set path for scoring script\n",
        "script_file = 'score_diabetes.py'\n",
        "script_path = os.path.join(deployment_folder,script_file)"
      ]
    },
    {
      "cell_type": "markdown",
      "metadata": {},
      "source": [
        "Layanan web tempat kami menyebarkan model akan memerlukan beberapa kode Python untuk memuat data input, mendapatkan model dari ruang kerja, dan menghasilkan serta mengembalikan prediksi. Kami akan menyimpan kode ini dalam *skrip entri* (sering disebut *skrip penilaian*) yang akan menyebarkan ke layanan web.\n",
        "\n",
        "Skrip terdiri dari dua fungsi:\n",
        "\n",
        "- **init**: Fungsi ini dipanggil saat layanan diinisialisasi, dan umumnya digunakan untuk memuat model. Perhatikan bahwa skrip penilaian menggunakan variabel lingkungan **AZUREML_MODEL_DIR** untuk menentukan folder tempat model disimpan.\n",
        "- **run**: Fungsi ini dipanggil setiap kali aplikasi klien mengirimkan data baru, dan umumnya digunakan untuk menyimpulkan prediksi dari model."
      ]
    },
    {
      "cell_type": "code",
      "execution_count": null,
      "metadata": {},
      "outputs": [],
      "source": [
        "%%writefile $script_path\n",
        "import json\n",
        "import joblib\n",
        "import numpy as np\n",
        "import os\n",
        "\n",
        "# Called when the service is loaded\n",
        "def init():\n",
        "    global model\n",
        "    # Get the path to the deployed model file and load it\n",
        "    model_path = os.path.join(os.getenv('AZUREML_MODEL_DIR'), 'diabetes_model.pkl')\n",
        "    model = joblib.load(model_path)\n",
        "\n",
        "# Called when a request is received\n",
        "def run(raw_data):\n",
        "    # Get the input data as a numpy array\n",
        "    data = np.array(json.loads(raw_data)['data'])\n",
        "    # Get a prediction from the model\n",
        "    predictions = model.predict(data)\n",
        "    # Get the corresponding classname for each prediction (0 or 1)\n",
        "    classnames = ['not-diabetic', 'diabetic']\n",
        "    predicted_classes = []\n",
        "    for prediction in predictions:\n",
        "        predicted_classes.append(classnames[prediction])\n",
        "    # Return the predictions as JSON\n",
        "    return json.dumps(predicted_classes)"
      ]
    },
    {
      "cell_type": "markdown",
      "metadata": {},
      "source": [
        "Layanan web akan dihosting dalam sebuah kontainer, dan kontainer tersebut perlu menginstal semua dependensi Python yang diperlukan saat diinisialisasi. Dalam hal ini, kode penilaian kami memerlukan **scikit-learn** dan beberapa paket khusus Azure Machine Learning yang digunakan oleh layanan web penilaian, jadi kami akan membuat lingkungan yang menyertakan ini. Kemudian kita akan menambahkan lingkungan tersebut ke *konfigurasi inferensi* bersama dengan skrip penilaian, dan menentukan *konfigurasi penyebaran* untuk kontainer tempat lingkungan dan skrip akan dihosting.\n",
        "\n",
        "Kami kemudian dapat menyebarkan model sebagai layanan berdasarkan konfigurasi ini.\n",
        "\n",
        "> **Informasi Lebih Lanjut**: Untuk detail selengkapnya tentang penyebaran model, dan opsi untuk lingkungan eksekusi target, lihat [dokumentasi](https://docs.microsoft.com/azure/machine-learning/how-to-deploy-and-where).\n",
        "\n",
        "Penyebaran akan memakan waktu karena pertama kali mengeksekusi proses untuk membuat citra kontainer, lalu menjalankan proses untuk membuat layanan web berdasarkan citra. Saat penyebaran berhasil diselesaikan, Anda akan melihat status **Sehat**."
      ]
    },
    {
      "cell_type": "code",
      "execution_count": null,
      "metadata": {},
      "outputs": [],
      "source": [
        "from azureml.core import Environment\n",
        "from azureml.core.model import InferenceConfig\n",
        "from azureml.core.webservice import AciWebservice\n",
        "\n",
        "# Configure the scoring environment\n",
        "service_env = Environment(name='service-env')\n",
        "python_packages = ['scikit-learn', 'azureml-defaults', 'azure-ml-api-sdk']\n",
        "for package in python_packages:\n",
        "    service_env.python.conda_dependencies.add_pip_package(package)\n",
        "inference_config = InferenceConfig(source_directory=deployment_folder,\n",
        "                                   entry_script=script_file,\n",
        "                                   environment=service_env)\n",
        "\n",
        "# Configure the web service container\n",
        "deployment_config = AciWebservice.deploy_configuration(cpu_cores=1, memory_gb=1)\n",
        "\n",
        "# Deploy the model as a service\n",
        "print('Deploying model...')\n",
        "service_name = \"diabetes-service\"\n",
        "service = Model.deploy(ws, service_name, [model], inference_config, deployment_config, overwrite=True)\n",
        "service.wait_for_deployment(True)\n",
        "print(service.state)"
      ]
    },
    {
      "cell_type": "markdown",
      "metadata": {},
      "source": [
        "Semoga penyebaran berhasil dan Anda dapat melihat status **Sehat**. Jika tidak, Anda dapat menggunakan kode berikut untuk mendapatkan log layanan untuk membantu Anda memecahkan masalah."
      ]
    },
    {
      "cell_type": "code",
      "execution_count": null,
      "metadata": {
        "scrolled": true
      },
      "outputs": [],
      "source": [
        "print(service.get_logs())\n",
        "\n",
        "# If you need to make a change and redeploy, you may need to delete unhealthy service using the following code:\n",
        "#service.delete()"
      ]
    },
    {
      "cell_type": "markdown",
      "metadata": {},
      "source": [
        "Lihat ruang kerja Anda di [Azure Machine Learning Studio](https://ml.azure.com) dan lihat halaman **Titik akhir**, yang menampilkan layanan yang disebarkan di ruang kerja Anda.\n",
        "\n",
        "Anda juga dapat mengambil nama layanan web di ruang kerja Anda dengan menjalankan kode berikut:"
      ]
    },
    {
      "cell_type": "code",
      "execution_count": null,
      "metadata": {},
      "outputs": [],
      "source": [
        "for webservice_name in ws.webservices:\n",
        "    print(webservice_name)"
      ]
    },
    {
      "cell_type": "markdown",
      "metadata": {},
      "source": [
        "## Menggunakan layanan web\n",
        "\n",
        "Dengan layanan yang disebarkan, sekarang Anda dapat menggunakannya dari aplikasi klien."
      ]
    },
    {
      "cell_type": "code",
      "execution_count": null,
      "metadata": {},
      "outputs": [],
      "source": [
        "import json\n",
        "\n",
        "x_new = [[2,180,74,24,21,23.9091702,1.488172308,22]]\n",
        "print ('Patient: {}'.format(x_new[0]))\n",
        "\n",
        "# Convert the array to a serializable list in a JSON document\n",
        "input_json = json.dumps({\"data\": x_new})\n",
        "\n",
        "# Call the web service, passing the input data (the web service will also accept the data in binary format)\n",
        "predictions = service.run(input_data = input_json)\n",
        "\n",
        "# Get the predicted class - it'll be the first (and only) one.\n",
        "predicted_classes = json.loads(predictions)\n",
        "print(predicted_classes[0])"
      ]
    },
    {
      "cell_type": "markdown",
      "metadata": {},
      "source": [
        "Anda juga dapat mengirim beberapa pengamatan pasien ke layanan, dan mendapatkan kembali prediksi untuk setiap pengamatan."
      ]
    },
    {
      "cell_type": "code",
      "execution_count": null,
      "metadata": {},
      "outputs": [],
      "source": [
        "import json\n",
        "\n",
        "# This time our input is an array of two feature arrays\n",
        "x_new = [[2,180,74,24,21,23.9091702,1.488172308,22],\n",
        "         [0,148,58,11,179,39.19207553,0.160829008,45]]\n",
        "\n",
        "# Convert the array or arrays to a serializable list in a JSON document\n",
        "input_json = json.dumps({\"data\": x_new})\n",
        "\n",
        "# Call the web service, passing the input data\n",
        "predictions = service.run(input_data = input_json)\n",
        "\n",
        "# Get the predicted classes.\n",
        "predicted_classes = json.loads(predictions)\n",
        "   \n",
        "for i in range(len(x_new)):\n",
        "    print (\"Patient {}\".format(x_new[i]), predicted_classes[i] )"
      ]
    },
    {
      "cell_type": "markdown",
      "metadata": {},
      "source": [
        "Kode di atas menggunakan Azure Machine Learning SDK untuk terhubung ke layanan web berbasis kontainer dan menggunakannya untuk menghasilkan prediksi dari model klasifikasi diabetes Anda. Dalam produksi, model kemungkinan akan dikonsumsi oleh aplikasi bisnis yang tidak menggunakan Azure Machine Learning SDK, tetapi hanya membuat permintaan HTTP ke layanan web.\n",
        "\n",
        "Mari kita tentukan URL tempat aplikasi ini harus mengirimkan permintaannya:"
      ]
    },
    {
      "cell_type": "code",
      "execution_count": null,
      "metadata": {},
      "outputs": [],
      "source": [
        "endpoint = service.scoring_uri\n",
        "print(endpoint)"
      ]
    },
    {
      "cell_type": "markdown",
      "metadata": {},
      "source": [
        "Sekarang setelah Anda mengetahui URI titik akhir, aplikasi dapat dengan mudah membuat permintaan HTTP, mengirim data pasien dalam format JSON, dan menerima kembali kelas yang diprediksi."
      ]
    },
    {
      "cell_type": "code",
      "execution_count": null,
      "metadata": {
        "scrolled": true
      },
      "outputs": [],
      "source": [
        "import requests\n",
        "import json\n",
        "\n",
        "x_new = [[2,180,74,24,21,23.9091702,1.488172308,22],\n",
        "         [0,148,58,11,179,39.19207553,0.160829008,45]]\n",
        "\n",
        "# Convert the array to a serializable list in a JSON document\n",
        "input_json = json.dumps({\"data\": x_new})\n",
        "\n",
        "# Set the content type\n",
        "headers = { 'Content-Type':'application/json' }\n",
        "\n",
        "predictions = requests.post(endpoint, input_json, headers = headers)\n",
        "predicted_classes = json.loads(predictions.json())\n",
        "\n",
        "for i in range(len(x_new)):\n",
        "    print (\"Patient {}\".format(x_new[i]), predicted_classes[i] )"
      ]
    },
    {
      "cell_type": "markdown",
      "metadata": {},
      "source": [
        "Anda telah menyebarkan layanan web Anda sebagai layanan Azure Container Instance (ACI) yang tidak memerlukan autentikasi. Hal ini bagus untuk pengembangan dan pengujian, tetapi untuk produksi, Anda harus mempertimbangkan untuk menyebarkan ke kluster Azure Kubernetes Service (AKS) dan mengaktifkan autentikasi berbasis token. Ini akan membutuhkan permintaan REST untuk menyertakan header **Otorisasi**.\n",
        "\n",
        "## Menghapus layanan\n",
        "\n",
        "Saat Anda tidak lagi membutuhkan layanan Anda, Anda harus menghapusnya untuk menghindari timbulnya biaya yang tidak perlu."
      ]
    },
    {
      "cell_type": "code",
      "execution_count": null,
      "metadata": {},
      "outputs": [],
      "source": [
        "service.delete()\n",
        "print ('Service deleted.')"
      ]
    },
    {
      "cell_type": "markdown",
      "metadata": {},
      "source": [
        "Untuk informasi selengkapnya tentang menerbitkan model sebagai layanan, lihat [dokumentasi](https://docs.microsoft.com/azure/machine-learning/how-to-deploy-and-where)"
      ]
    }
  ],
  "metadata": {
    "kernel_info": {
      "name": "python38-azureml"
    },
    "kernelspec": {
      "display_name": "Python 3.8 - AzureML",
      "language": "python",
      "name": "python38-azureml"
    },
    "language_info": {
      "codemirror_mode": {
        "name": "ipython",
        "version": 3
      },
      "file_extension": ".py",
      "mimetype": "text/x-python",
      "name": "python",
      "nbconvert_exporter": "python",
      "pygments_lexer": "ipython3",
      "version": "3.8.5"
    },
    "nteract": {
      "version": "nteract-front-end@1.0.0"
    }
  },
  "nbformat": 4,
  "nbformat_minor": 0
}
