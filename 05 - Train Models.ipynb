{
  "cells": [
    {
      "cell_type": "markdown",
      "source": [
        "# Melatih Model\n",
        "\n",
        "Tujuan utama dari pembelajaran mesin adalah untuk melatih model prediktif yang dapat digunakan oleh aplikasi. Di Azure Machine Learning, Anda dapat menggunakan skrip untuk melatih model yang memanfaatkan kerangka kerja pembelajaran mesin umum seperti Scikit-Learn, Tensorflow, PyTorch, SparkML, dan lainnya. Anda dapat menjalankan skrip pelatihan ini sebagai eksperimen untuk melacak metrik dan output, yang mencakup model terlatih."
      ],
      "metadata": {}
    },
    {
      "cell_type": "markdown",
      "source": [
        "## Menghubungkan ke ruang kerja Anda\n",
        "\n",
        "Untuk memulai, hubungkan ke ruang kerja Anda.\n",
        "\n",
        "> **Catatan**: Jika Anda belum membuat sesi yang terautentikasi dengan langganan Azure, Anda akan diminta untuk mengautentikasi dengan mengklik tautan, memasukkan kode autentikasi, dan masuk ke Azure."
      ],
      "metadata": {}
    },
    {
      "cell_type": "code",
      "source": [
        "import azureml.core\n",
        "from azureml.core import Workspace\n",
        "\n",
        "# Load the workspace from the saved config file\n",
        "ws = Workspace.from_config()\n",
        "print('Ready to use Azure ML {} to work with {}'.format(azureml.core.VERSION, ws.name))"
      ],
      "outputs": [],
      "execution_count": null,
      "metadata": {
        "gather": {
          "logged": 1649366036303
        }
      }
    },
    {
      "cell_type": "markdown",
      "source": [
        "## Membuat skrip pelatihan\n",
        "\n",
        "Anda akan menggunakan skrip Python untuk melatih model pembelajaran mesin berdasarkan data diabates, jadi mari kita mulai dengan membuat folder untuk skrip dan file data."
      ],
      "metadata": {}
    },
    {
      "cell_type": "code",
      "source": [
        "import os, shutil\n",
        "\n",
        "# Create a folder for the experiment files\n",
        "training_folder = 'diabetes-training'\n",
        "os.makedirs(training_folder, exist_ok=True)\n",
        "\n",
        "# Copy the data file into the experiment folder\n",
        "shutil.copy('data/diabetes.csv', os.path.join(training_folder, \"diabetes.csv\"))"
      ],
      "outputs": [],
      "execution_count": null,
      "metadata": {
        "gather": {
          "logged": 1649366039039
        }
      }
    },
    {
      "cell_type": "markdown",
      "source": [
        "Sekarang Anda siap membuat skrip pelatihan dan menyimpannya di folder.\n",
        "\n",
        "> **Catatan**: Kode ini *membuat* skrip - tidak menjalankannya!"
      ],
      "metadata": {}
    },
    {
      "cell_type": "code",
      "source": [
        "%%writefile $training_folder/diabetes_training.py\n",
        "# Import libraries\n",
        "from azureml.core import Run\n",
        "import pandas as pd\n",
        "import numpy as np\n",
        "import joblib\n",
        "import os\n",
        "from sklearn.model_selection import train_test_split\n",
        "from sklearn.linear_model import LogisticRegression\n",
        "from sklearn.metrics import roc_auc_score\n",
        "from sklearn.metrics import roc_curve\n",
        "\n",
        "# Get the experiment run context\n",
        "run = Run.get_context()\n",
        "\n",
        "# load the diabetes dataset\n",
        "print(\"Loading Data...\")\n",
        "diabetes = pd.read_csv('diabetes.csv')\n",
        "\n",
        "# Separate features and labels\n",
        "X, y = diabetes[['Pregnancies','PlasmaGlucose','DiastolicBloodPressure','TricepsThickness','SerumInsulin','BMI','DiabetesPedigree','Age']].values, diabetes['Diabetic'].values\n",
        "\n",
        "# Split data into training set and test set\n",
        "X_train, X_test, y_train, y_test = train_test_split(X, y, test_size=0.30, random_state=0)\n",
        "\n",
        "# Set regularization hyperparameter\n",
        "reg = 0.01\n",
        "\n",
        "# Train a logistic regression model\n",
        "print('Training a logistic regression model with regularization rate of', reg)\n",
        "run.log('Regularization Rate',  np.float(reg))\n",
        "model = LogisticRegression(C=1/reg, solver=\"liblinear\").fit(X_train, y_train)\n",
        "\n",
        "# calculate accuracy\n",
        "y_hat = model.predict(X_test)\n",
        "acc = np.average(y_hat == y_test)\n",
        "print('Accuracy:', acc)\n",
        "run.log('Accuracy', np.float(acc))\n",
        "\n",
        "# calculate AUC\n",
        "y_scores = model.predict_proba(X_test)\n",
        "auc = roc_auc_score(y_test,y_scores[:,1])\n",
        "print('AUC: ' + str(auc))\n",
        "run.log('AUC', np.float(auc))\n",
        "\n",
        "# Save the trained model in the outputs folder\n",
        "os.makedirs('outputs', exist_ok=True)\n",
        "joblib.dump(value=model, filename='outputs/diabetes_model.pkl')\n",
        "\n",
        "run.complete()"
      ],
      "outputs": [],
      "execution_count": null,
      "metadata": {}
    },
    {
      "cell_type": "markdown",
      "source": [
        "## Menjalankan skrip pelatihan sebagai eksperimen\n",
        "\n",
        "Sekarang Anda siap menjalankan skrip sebagai eksperimen. Perhatikan bahwa lingkungan default tidak menyertakan paket **scikit-learn**, jadi Anda perlu menambahkannya secara eksplisit ke konfigurasi. Lingkungan conda dibuat sesuai permintaan saat pertama kali eksperimen dijalankan, dan di-cache untuk proses berikutnya yang menggunakan konfigurasi yang sama; jadi putaran pertama akan memakan waktu sedikit lebih lama."
      ],
      "metadata": {}
    },
    {
      "cell_type": "code",
      "source": [
        "from azureml.core import Experiment, ScriptRunConfig, Environment\n",
        "from azureml.core.runconfig import DockerConfiguration\n",
        "from azureml.widgets import RunDetails\n",
        "\n",
        "# Create a Python environment for the experiment (from a .yml file)\n",
        "env = Environment.from_conda_specification(\"experiment_env\", \"environment.yml\")\n",
        "\n",
        "# Create a script config\n",
        "script_config = ScriptRunConfig(source_directory=training_folder,\n",
        "                                script='diabetes_training.py',\n",
        "                                environment=env,\n",
        "                                docker_runtime_config=DockerConfiguration(use_docker=True)) \n",
        "\n",
        "# submit the experiment run\n",
        "experiment_name = 'mslearn-train-diabetes'\n",
        "experiment = Experiment(workspace=ws, name=experiment_name)\n",
        "run = experiment.submit(config=script_config)\n",
        "\n",
        "# Show the running experiment run in the notebook widget\n",
        "RunDetails(run).show()\n",
        "\n",
        "# Block until the experiment run has completed\n",
        "run.wait_for_completion()"
      ],
      "outputs": [],
      "execution_count": null,
      "metadata": {
        "gather": {
          "logged": 1649366052967
        }
      }
    },
    {
      "cell_type": "markdown",
      "source": [
        "Anda dapat mengambil metrik dan output dari objek **Run**."
      ],
      "metadata": {}
    },
    {
      "cell_type": "code",
      "source": [
        "# Get logged metrics and files\n",
        "metrics = run.get_metrics()\n",
        "for key in metrics.keys():\n",
        "        print(key, metrics.get(key))\n",
        "print('\\n')\n",
        "for file in run.get_file_names():\n",
        "    print(file)"
      ],
      "outputs": [],
      "execution_count": null,
      "metadata": {
        "gather": {
          "logged": 1649366055677
        }
      }
    },
    {
      "cell_type": "markdown",
      "source": [
        "## Mendaftarkan model yang terlatih\n",
        "\n",
        "Perhatikan bahwa keluaran eksperimen menyertakan file model terlatih (**diabetes_model.pkl**). Anda dapat mendaftarkan model ini di ruang kerja Azure Machine Learning Anda, sehingga memungkinkan untuk melacak versi model dan mengambilnya nanti."
      ],
      "metadata": {}
    },
    {
      "cell_type": "code",
      "source": [
        "from azureml.core import Model\n",
        "\n",
        "# Register the model\n",
        "run.register_model(model_path='outputs/diabetes_model.pkl', model_name='diabetes_model',\n",
        "                   tags={'Training context':'Script'},\n",
        "                   properties={'AUC': run.get_metrics()['AUC'], 'Accuracy': run.get_metrics()['Accuracy']})\n",
        "\n",
        "# List registered models\n",
        "for model in Model.list(ws):\n",
        "    print(model.name, 'version:', model.version)\n",
        "    for tag_name in model.tags:\n",
        "        tag = model.tags[tag_name]\n",
        "        print ('\\t',tag_name, ':', tag)\n",
        "    for prop_name in model.properties:\n",
        "        prop = model.properties[prop_name]\n",
        "        print ('\\t',prop_name, ':', prop)\n",
        "    print('\\n')"
      ],
      "outputs": [],
      "execution_count": null,
      "metadata": {
        "gather": {
          "logged": 1649366061163
        }
      }
    },
    {
      "cell_type": "markdown",
      "source": [
        "> **Catatan**: Kode di atas menggunakan *properti* dan *tag* untuk mencatat informasi tambahan tentang model. Perbedaan utama antara properti dan tag adalah bahwa properti tidak dapat diubah setelah model didaftarkan, sedangkan tag untuk model terdaftar dapat dimodifikasi.\n",
        "\n",
        "## Buat skrip pelatihan berparameter\n",
        "\n",
        "Anda dapat meningkatkan fleksibilitas eksperimen pelatihan Anda dengan menambahkan parameter ke skrip Anda, memungkinkan Anda untuk mengulangi eksperimen pelatihan yang sama dengan pengaturan yang berbeda. Dalam hal ini, Anda akan menambahkan parameter untuk tingkat regularisasi yang digunakan oleh algoritme regresi logistik saat melatih model.\n",
        "\n",
        "Sekali lagi, mari kita mulai dengan membuat folder untuk skrip berparameter dan data pelatihan."
      ],
      "metadata": {}
    },
    {
      "cell_type": "code",
      "source": [
        "import os, shutil\n",
        "\n",
        "# Create a folder for the experiment files\n",
        "training_folder = 'diabetes-training-params'\n",
        "os.makedirs(training_folder, exist_ok=True)\n",
        "\n",
        "# Copy the data file into the experiment folder\n",
        "shutil.copy('data/diabetes.csv', os.path.join(training_folder, \"diabetes.csv\"))"
      ],
      "outputs": [],
      "execution_count": null,
      "metadata": {
        "gather": {
          "logged": 1649366064098
        }
      }
    },
    {
      "cell_type": "markdown",
      "source": [
        "Sekarang mari kita buat skrip dengan argumen untuk hyperparameter tingkat regularisasi. Argumen dibaca menggunakan objek **argparse.ArgumentParser** Python."
      ],
      "metadata": {}
    },
    {
      "cell_type": "code",
      "source": [
        "%%writefile $training_folder/diabetes_training.py\n",
        "# Import libraries\n",
        "from azureml.core import Run\n",
        "import pandas as pd\n",
        "import numpy as np\n",
        "import joblib\n",
        "import os\n",
        "import argparse\n",
        "from sklearn.model_selection import train_test_split\n",
        "from sklearn.linear_model import LogisticRegression\n",
        "from sklearn.metrics import roc_auc_score\n",
        "from sklearn.metrics import roc_curve\n",
        "\n",
        "# Get the experiment run context\n",
        "run = Run.get_context()\n",
        "\n",
        "# Set regularization hyperparameter\n",
        "parser = argparse.ArgumentParser()\n",
        "parser.add_argument('--reg_rate', type=float, dest='reg', default=0.01)\n",
        "args = parser.parse_args()\n",
        "reg = args.reg\n",
        "\n",
        "# load the diabetes dataset\n",
        "print(\"Loading Data...\")\n",
        "# load the diabetes dataset\n",
        "diabetes = pd.read_csv('diabetes.csv')\n",
        "\n",
        "# Separate features and labels\n",
        "X, y = diabetes[['Pregnancies','PlasmaGlucose','DiastolicBloodPressure','TricepsThickness','SerumInsulin','BMI','DiabetesPedigree','Age']].values, diabetes['Diabetic'].values\n",
        "\n",
        "# Split data into training set and test set\n",
        "X_train, X_test, y_train, y_test = train_test_split(X, y, test_size=0.30, random_state=0)\n",
        "\n",
        "# Train a logistic regression model\n",
        "print('Training a logistic regression model with regularization rate of', reg)\n",
        "run.log('Regularization Rate',  np.float(reg))\n",
        "model = LogisticRegression(C=1/reg, solver=\"liblinear\").fit(X_train, y_train)\n",
        "\n",
        "# calculate accuracy\n",
        "y_hat = model.predict(X_test)\n",
        "acc = np.average(y_hat == y_test)\n",
        "print('Accuracy:', acc)\n",
        "run.log('Accuracy', np.float(acc))\n",
        "\n",
        "# calculate AUC\n",
        "y_scores = model.predict_proba(X_test)\n",
        "auc = roc_auc_score(y_test,y_scores[:,1])\n",
        "print('AUC: ' + str(auc))\n",
        "run.log('AUC', np.float(auc))\n",
        "\n",
        "os.makedirs('outputs', exist_ok=True)\n",
        "joblib.dump(value=model, filename='outputs/diabetes_model.pkl')\n",
        "\n",
        "run.complete()"
      ],
      "outputs": [],
      "execution_count": null,
      "metadata": {}
    },
    {
      "cell_type": "markdown",
      "source": [
        "## Jalankan skrip dengan argumen\n",
        "\n",
        "Anda menjalankan skrip sebagai eksperimen seperti yang Anda lakukan sebelumnya, menggunakan kembali lingkungan yang Anda buat; tetapi kali ini Anda harus memberikan parameter **--reg_rate** yang diharapkan skrip sebagai argumen."
      ],
      "metadata": {}
    },
    {
      "cell_type": "code",
      "source": [
        "# Create a script config\n",
        "script_config = ScriptRunConfig(source_directory=training_folder,\n",
        "                                script='diabetes_training.py',\n",
        "                                arguments = ['--reg_rate', 0.1],\n",
        "                                environment=env,\n",
        "                                docker_runtime_config=DockerConfiguration(use_docker=True)) \n",
        "\n",
        "# submit the experiment\n",
        "experiment_name = 'mslearn-train-diabetes'\n",
        "experiment = Experiment(workspace=ws, name=experiment_name)\n",
        "run = experiment.submit(config=script_config)\n",
        "RunDetails(run).show()\n",
        "run.wait_for_completion()"
      ],
      "outputs": [],
      "execution_count": null,
      "metadata": {
        "gather": {
          "logged": 1649366078595
        }
      }
    },
    {
      "cell_type": "markdown",
      "source": [
        "Sekali lagi, kita bisa mendapatkan metrik dan output dari proses yang telah selesai."
      ],
      "metadata": {}
    },
    {
      "cell_type": "code",
      "source": [
        "# Get logged metrics\n",
        "metrics = run.get_metrics()\n",
        "for key in metrics.keys():\n",
        "        print(key, metrics.get(key))\n",
        "print('\\n')\n",
        "for file in run.get_file_names():\n",
        "    print(file)"
      ],
      "outputs": [],
      "execution_count": null,
      "metadata": {
        "gather": {
          "logged": 1649366082569
        }
      }
    },
    {
      "cell_type": "markdown",
      "source": [
        "## Daftarkan model versi baru\n",
        "\n",
        "Sekarang setelah Anda melatih model baru, Anda dapat mendaftarkannya sebagai versi baru di ruang kerja."
      ],
      "metadata": {}
    },
    {
      "cell_type": "code",
      "source": [
        "from azureml.core import Model\n",
        "\n",
        "# Register the model\n",
        "run.register_model(model_path='outputs/diabetes_model.pkl', model_name='diabetes_model',\n",
        "                   tags={'Training context':'Parameterized script'},\n",
        "                   properties={'AUC': run.get_metrics()['AUC'], 'Accuracy': run.get_metrics()['Accuracy']})\n",
        "\n",
        "# List registered models\n",
        "for model in Model.list(ws):\n",
        "    print(model.name, 'version:', model.version)\n",
        "    for tag_name in model.tags:\n",
        "        tag = model.tags[tag_name]\n",
        "        print ('\\t',tag_name, ':', tag)\n",
        "    for prop_name in model.properties:\n",
        "        prop = model.properties[prop_name]\n",
        "        print ('\\t',prop_name, ':', prop)\n",
        "    print('\\n')"
      ],
      "outputs": [],
      "execution_count": null,
      "metadata": {
        "gather": {
          "logged": 1649366090545
        }
      }
    },
    {
      "cell_type": "markdown",
      "source": [
        "Anda juga dapat melihat model terdaftar di ruang kerja Anda di halaman **Model** di [Azure Machine Learning studio](https://ml.azure.com).\n",
        "\n",
        "Jika Anda telah selesai menjelajah, Anda dapat menutup buku catatan ini dan mematikan instans komputasi Anda."
      ],
      "metadata": {}
    }
  ],
  "metadata": {
    "kernelspec": {
      "name": "python38-azureml",
      "language": "python",
      "display_name": "Python 3.8 - AzureML"
    },
    "language_info": {
      "name": "python",
      "version": "3.8.5",
      "mimetype": "text/x-python",
      "codemirror_mode": {
        "name": "ipython",
        "version": 3
      },
      "pygments_lexer": "ipython3",
      "nbconvert_exporter": "python",
      "file_extension": ".py"
    },
    "kernel_info": {
      "name": "python38-azureml"
    },
    "nteract": {
      "version": "nteract-front-end@1.0.0"
    }
  },
  "nbformat": 4,
  "nbformat_minor": 0
}