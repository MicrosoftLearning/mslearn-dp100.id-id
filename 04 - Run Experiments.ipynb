{
  "cells": [
    {
      "cell_type": "markdown",
      "source": [
        "# Menjalankan Eksperimen\n",
        "\n",
        "Anda dapat menggunakan SDK Azure Machine Learning untuk menjalankan eksperimen kode yang mencatat metrik dan menghasilkan output. Ini adalah inti dari sebagian besar operasi pembelajaran mesin di Azure Machine Learning.\n",
        "\n",
        "## Menghubungkan ke ruang kerja Anda\n",
        "\n",
        "Semua eksperimen dan sumber daya terkait dikelola dalam ruang kerja Azure Machine Learning Anda. Dalam kebanyakan kasus, Anda harus menyimpan konfigurasi ruang kerja dalam file konfigurasi JSON. Hal ini memudahkan untuk terhubung kembali tanpa perlu mengingat detail seperti ID langganan Azure Anda. Anda dapat mengunduh file konfigurasi JSON dari panel untuk ruang kerja Anda di portal Microsoft Azure, tetapi jika Anda menggunakan Instans Komputasi dalam ruang kerja, file konfigurasi telah diunduh ke folder akar.\n",
        "\n",
        "Kode di bawah ini menggunakan file konfigurasi untuk terhubung ke ruang kerja Anda.\n",
        "\n",
        "> **Catatan**: Jika Anda belum membuat sesi yang terautentikasi dengan langganan Azure, Anda akan diminta untuk mengautentikasi dengan mengklik tautan, memasukkan kode autentikasi, dan masuk ke Azure."
      ],
      "metadata": {}
    },
    {
      "cell_type": "code",
      "source": [
        "import azureml.core\n",
        "from azureml.core import Workspace\n",
        "\n",
        "# Load the workspace from the saved config file\n",
        "ws = Workspace.from_config()\n",
        "print('Ready to use Azure ML {} to work with {}'.format(azureml.core.VERSION, ws.name))"
      ],
      "outputs": [],
      "execution_count": null,
      "metadata": {
        "gather": {
          "logged": 1649363615859
        }
      }
    },
    {
      "cell_type": "markdown",
      "source": [
        "## Menjalankan eksperimen\n",
        "\n",
        "Salah satu tugas paling mendasar yang perlu dilakukan ilmuwan data adalah membuat dan menjalankan eksperimen yang memproses dan menganalisis data. Dalam latihan ini, Anda akan mempelajari cara menggunakan *eksperimen* Azure Machine Learning untuk menjalankan kode Python dan mencatat nilai yang diekstrak dari data. Dalam kasus ini, Anda akan menggunakan himpunan data sederhana yang berisi detail pasien yang telah diperiksa untuk diabetes. Anda akan menjalankan eksperimen untuk menjelajahi data, mengekstrak statistik, visualisasi, dan sampel data. Sebagian besar kode yang akan Anda gunakan adalah Python yang cukup umum, seperti yang mungkin Anda jalankan dalam proses eksplorasi data apa pun. Tetapi, dengan penambahan beberapa baris, kode tersebut menggunakan *eksperimen* Azure Machine Learning untuk mencatat detail eksekusi."
      ],
      "metadata": {}
    },
    {
      "cell_type": "code",
      "source": [
        "from azureml.core import Experiment\n",
        "import pandas as pd\n",
        "import matplotlib.pyplot as plt\n",
        "%matplotlib inline \n",
        "\n",
        "# Create an Azure ML experiment in your workspace\n",
        "experiment = Experiment(workspace=ws, name=\"mslearn-diabetes\")\n",
        "\n",
        "# Start logging data from the experiment, obtaining a reference to the experiment run\n",
        "run = experiment.start_logging()\n",
        "print(\"Starting experiment:\", experiment.name)\n",
        "\n",
        "# load the data from a local file\n",
        "data = pd.read_csv('data/diabetes.csv')\n",
        "\n",
        "# Count the rows and log the result\n",
        "row_count = (len(data))\n",
        "run.log('observations', row_count)\n",
        "print('Analyzing {} rows of data'.format(row_count))\n",
        "\n",
        "# Plot and log the count of diabetic vs non-diabetic patients\n",
        "diabetic_counts = data['Diabetic'].value_counts()\n",
        "fig = plt.figure(figsize=(6,6))\n",
        "ax = fig.gca()    \n",
        "diabetic_counts.plot.bar(ax = ax) \n",
        "ax.set_title('Patients with Diabetes') \n",
        "ax.set_xlabel('Diagnosis') \n",
        "ax.set_ylabel('Patients')\n",
        "plt.show()\n",
        "run.log_image(name='label distribution', plot=fig)\n",
        "\n",
        "# log distinct pregnancy counts\n",
        "pregnancies = data.Pregnancies.unique()\n",
        "run.log_list('pregnancy categories', pregnancies)\n",
        "\n",
        "# Log summary statistics for numeric columns\n",
        "med_columns = ['PlasmaGlucose', 'DiastolicBloodPressure', 'TricepsThickness', 'SerumInsulin', 'BMI']\n",
        "summary_stats = data[med_columns].describe().to_dict()\n",
        "for col in summary_stats:\n",
        "    keys = list(summary_stats[col].keys())\n",
        "    values = list(summary_stats[col].values())\n",
        "    for index in range(len(keys)):\n",
        "        run.log_row(col, stat=keys[index], value = values[index])\n",
        "        \n",
        "# Save a sample of the data and upload it to the experiment output\n",
        "data.sample(100).to_csv('sample.csv', index=False, header=True)\n",
        "run.upload_file(name='outputs/sample.csv', path_or_stream='./sample.csv')\n",
        "\n",
        "# Complete the run\n",
        "run.complete()"
      ],
      "outputs": [],
      "execution_count": null,
      "metadata": {
        "scrolled": false,
        "gather": {
          "logged": 1649363619696
        }
      }
    },
    {
      "cell_type": "markdown",
      "source": [
        "## Melihat detail eksekusi\n",
        "\n",
        "Di Jupyter Notebooks, Anda dapat menggunakan widget **RunDetails** untuk melihat visualisasi detail eksekusi."
      ],
      "metadata": {}
    },
    {
      "cell_type": "code",
      "source": [
        "from azureml.widgets import RunDetails\n",
        "\n",
        "RunDetails(run).show()"
      ],
      "outputs": [],
      "execution_count": null,
      "metadata": {
        "gather": {
          "logged": 1649363626246
        }
      }
    },
    {
      "cell_type": "markdown",
      "source": [
        "### Melihat detail selengkapnya di studio Azure Machine Learning\n",
        "\n",
        "Perhatikan bahwa widget **RunDetails** menyertakan tautan ke **melihat detail eksekusi** di studio Azure Machine Learning. Klik ini untuk membuka tab browser baru dengan detail eksekusi (Anda juga dapat membuka [Studio Azure Machine Learning](https://ml.azure.com) dan menemukan eksekusi di halaman **Eksperimen**). Saat melihat eksekusi di studio Azure Machine Learning, perhatikan hal berikut:\n",
        "\n",
        "- Tab **Detail** berisi properti umum dari eksekusi eksperimen.\n",
        "- Tab **Metrik** memungkinkan Anda memilih metrik yang dicatat dan melihatnya sebagai tabel atau diagram.\n",
        "- Tab **Gambar** memungkinkan Anda memilih dan melihat gambar atau plot apa pun yang dicatat dalam eksperimen (dalam kasus ini, plot *Distribusi Label*)\n",
        "- Tab **Eksekusi Turunan** mencantumkan semua eksekusi turunan (dalam eksperimen ini tidak ada eksekusi turunan).\n",
        "- Tab **Output + Log** menampilkan file output atau log yang dihasilkan oleh eksperimen.\n",
        "- Tab **Snapshot** berisi semua file dalam folder tempat kode eksperimen dijalankan (dalam kasus ini, semuanya berada di folder yang sama dengan buku catatan ini).\n",
        "- Tab **Penjelasan** digunakan untuk menampilkan penjelasan model yang dihasilkan oleh eksperimen (dalam kasus ini tidak ada penjelasan model).\n",
        "Tab **Keadilan** digunakan untuk memvisualisasikan perbedaan performa prediktif yang membantu Anda mengevaluasi keadilan model pembelajaran mesin (dalam kasus ini, tidak ada keadilan model pembelajaran mesin)."
      ],
      "metadata": {}
    },
    {
      "cell_type": "markdown",
      "source": [
        "### Mengambil detail eksperimen menggunakan SDK\n",
        "\n",
        "Variabel **eksekusi** dalam kode yang Anda jalankan sebelumnya adalah instans dari objek **Eksekusi**, yang merupakan referensi ke masing-masing eksekusi dari eksperimen di Azure Machine Learning. Anda dapat menggunakan referensi ini untuk mendapatkan informasi tentang eksekusi dan output eksekusi:"
      ],
      "metadata": {}
    },
    {
      "cell_type": "code",
      "source": [
        "import json\n",
        "\n",
        "# Get logged metrics\n",
        "print(\"Metrics:\")\n",
        "metrics = run.get_metrics()\n",
        "for metric_name in metrics:\n",
        "    print(metric_name, \":\", metrics[metric_name])\n",
        "\n",
        "# Get output files\n",
        "print(\"\\nFiles:\")\n",
        "files = run.get_file_names()\n",
        "for file in files:\n",
        "    print(file)"
      ],
      "outputs": [],
      "execution_count": null,
      "metadata": {
        "gather": {
          "logged": 1649363632957
        }
      }
    },
    {
      "cell_type": "markdown",
      "source": [
        "Anda dapat mengunduh file yang dihasilkan oleh eksperimen, baik satu per satu dengan menggunakan metode **download_file**, atau dengan menggunakan metode **download_files** untuk mengambil beberapa file. Kode berikut mengunduh semua file di folder **output** eksekusi:"
      ],
      "metadata": {}
    },
    {
      "cell_type": "code",
      "source": [
        "import os\n",
        "\n",
        "download_folder = 'downloaded-files'\n",
        "\n",
        "# Download files in the \"outputs\" folder\n",
        "run.download_files(prefix='outputs', output_directory=download_folder)\n",
        "\n",
        "# Verify the files have been downloaded\n",
        "for root, directories, filenames in os.walk(download_folder): \n",
        "    for filename in filenames:  \n",
        "        print (os.path.join(root,filename))"
      ],
      "outputs": [],
      "execution_count": null,
      "metadata": {
        "gather": {
          "logged": 1649363635892
        }
      }
    },
    {
      "cell_type": "markdown",
      "source": [
        "Jika Anda perlu memecahkan masalah eksekusi eksperimen, Anda dapat menggunakan metode **get_details** untuk mengambil detail dasar tentang eksekusi tersebut, atau Anda dapat menggunakan metode **get_details_with_logs** untuk mengambil detail eksekusi serta konten file log yang dihasilkan selama eksekusi:"
      ],
      "metadata": {}
    },
    {
      "cell_type": "code",
      "source": [
        "run.get_details_with_logs()"
      ],
      "outputs": [],
      "execution_count": null,
      "metadata": {
        "gather": {
          "logged": 1649363638967
        }
      }
    },
    {
      "cell_type": "markdown",
      "source": [
        "Perhatikan bahwa detail mencakup informasi tentang target komputasi tempat eksperimen dijalankan, tanggal dan waktu dimulai dan berakhirnya eksperimen. Selain itu, karena buku catatan yang berisi kode eksperimen (yang ini) terdapat di repositori Git yang dikloning, detail tentang repositori, cabang, dan status dicatat dalam riwayat eksekusi.\n",
        "\n",
        "Dalam kasus ini, perhatikan bahwa entri **logFiles** dalam detail menunjukkan bahwa tidak ada file log yang dibuat. Hal tersebut biasa terjadi untuk eksperimen sebaris seperti yang Anda jalankan, tetapi segalanya menjadi lebih menarik saat Anda menjalankan skrip sebagai eksperimen; yang akan kita lihat selanjutnya."
      ],
      "metadata": {}
    },
    {
      "cell_type": "markdown",
      "source": [
        "## Menjalankan skrip eksperimen\n",
        "\n",
        "Pada contoh sebelumnya, Anda menjalankan sebaris eksperimen di buku catatan ini. Solusi yang lebih fleksibel adalah membuat skrip terpisah untuk eksperimen, dan menyimpannya di folder bersama dengan file lain yang diperlukan, lalu menggunakan Azure Machine Learning untuk menjalankan eksperimen berdasarkan skrip di folder.\n",
        "\n",
        "Pertama, mari kita buat folder untuk file eksperimen, dan salin data ke dalamnya:"
      ],
      "metadata": {}
    },
    {
      "cell_type": "code",
      "source": [
        "import os, shutil\n",
        "\n",
        "# Create a folder for the experiment files\n",
        "folder_name = 'diabetes-experiment-files'\n",
        "experiment_folder = './' + folder_name\n",
        "os.makedirs(folder_name, exist_ok=True)\n",
        "\n",
        "# Copy the data file into the experiment folder\n",
        "shutil.copy('data/diabetes.csv', os.path.join(folder_name, \"diabetes.csv\"))"
      ],
      "outputs": [],
      "execution_count": null,
      "metadata": {
        "gather": {
          "logged": 1649363641423
        }
      }
    },
    {
      "cell_type": "markdown",
      "source": [
        "Sekarang kita akan membuat skrip Python yang berisi kode untuk eksperimen kita, dan menyimpannya di folder eksperimen.\n",
        "\n",
        "> **Catatan**: menjalankan sel berikut hanya *membuat* file skrip - tidak menjalankannya!"
      ],
      "metadata": {}
    },
    {
      "cell_type": "code",
      "source": [
        "%%writefile $folder_name/diabetes_experiment.py\n",
        "from azureml.core import Run\n",
        "import pandas as pd\n",
        "import os\n",
        "\n",
        "# Get the experiment run context\n",
        "run = Run.get_context()\n",
        "\n",
        "# load the diabetes dataset\n",
        "data = pd.read_csv('diabetes.csv')\n",
        "\n",
        "# Count the rows and log the result\n",
        "row_count = (len(data))\n",
        "run.log('observations', row_count)\n",
        "print('Analyzing {} rows of data'.format(row_count))\n",
        "\n",
        "# Count and log the label counts\n",
        "diabetic_counts = data['Diabetic'].value_counts()\n",
        "print(diabetic_counts)\n",
        "for k, v in diabetic_counts.items():\n",
        "    run.log('Label:' + str(k), v)\n",
        "      \n",
        "# Save a sample of the data in the outputs folder (which gets uploaded automatically)\n",
        "os.makedirs('outputs', exist_ok=True)\n",
        "data.sample(100).to_csv(\"outputs/sample.csv\", index=False, header=True)\n",
        "\n",
        "# Complete the run\n",
        "run.complete()"
      ],
      "outputs": [],
      "execution_count": null,
      "metadata": {}
    },
    {
      "cell_type": "markdown",
      "source": [
        "Kode ini adalah versi sederhana dari kode sebaris yang digunakan sebelumnya. Tetapi, perhatikan hal berikut:\n",
        "- Kode menggunakan metode `Run.get_context()` untuk mengambil konteks eksekusi eksperimen saat skrip dijalankan.\n",
        "- Kode memuat data diabetes dari folder tempat skrip berada.\n",
        "- Kode membuat folder bernama **outputs** dan menulis file sampel ke dalamnya - folder ini secara otomatis diunggah ke eksekusi eksperimen"
      ],
      "metadata": {}
    },
    {
      "cell_type": "markdown",
      "source": [
        "Sekarang Anda hampir siap untuk menjalankan eksperimen. Untuk menjalankan skrip, Anda harus membuat **ScriptRunConfig** yang mengidentifikasi file skrip Python untuk dijalankan dalam eksperimen, lalu menjalankan eksperimen berdasarkan skrip tersebut.\n",
        "\n",
        "> **Catatan**: ScriptRunConfig juga menentukan target komputasi dan lingkungan Python. Dalam kasus ini, lingkungan Python ditentukan untuk menyertakan beberapa paket Conda dan pip, tetapi target komputasi dihilangkan; sehingga komputasi lokal default akan digunakan.\n",
        "\n",
        "Sel berikut mengonfigurasi dan mengirimkan eksperimen berbasis skrip."
      ],
      "metadata": {}
    },
    {
      "cell_type": "code",
      "source": [
        "from azureml.core import Experiment, ScriptRunConfig, Environment\n",
        "from azureml.core.runconfig import DockerConfiguration\n",
        "from azureml.widgets import RunDetails\n",
        "\n",
        "# Create a Python environment for the experiment (from a .yml file)\n",
        "env = Environment.from_conda_specification(\"experiment_env\", \"environment.yml\")\n",
        "\n",
        "# Create a script config\n",
        "script_config = ScriptRunConfig(source_directory=experiment_folder,\n",
        "                                script='diabetes_experiment.py',\n",
        "                                environment=env,\n",
        "                                docker_runtime_config=DockerConfiguration(use_docker=True))\n",
        "\n",
        "# submit the experiment\n",
        "experiment = Experiment(workspace=ws, name='mslearn-diabetes')\n",
        "run = experiment.submit(config=script_config)\n",
        "RunDetails(run).show()\n",
        "run.wait_for_completion()"
      ],
      "outputs": [],
      "execution_count": null,
      "metadata": {
        "gather": {
          "logged": 1649363661425
        }
      }
    },
    {
      "cell_type": "markdown",
      "source": [
        "Seperti sebelumnya, Anda dapat menggunakan widget atau tautan ke eksperimen di [Studio Azure Machine Learning](https://ml.azure.com) untuk melihat output yang dihasilkan oleh eksperimen, dan Anda juga dapat menulis kode untuk mengambil metrik dan file yang dihasilkan kode:"
      ],
      "metadata": {}
    },
    {
      "cell_type": "code",
      "source": [
        "# Get logged metrics\n",
        "metrics = run.get_metrics()\n",
        "for key in metrics.keys():\n",
        "        print(key, metrics.get(key))\n",
        "print('\\n')\n",
        "for file in run.get_file_names():\n",
        "    print(file)"
      ],
      "outputs": [],
      "execution_count": null,
      "metadata": {
        "gather": {
          "logged": 1649363665408
        }
      }
    },
    {
      "cell_type": "markdown",
      "source": [
        "Perhatikan bahwa kali ini, eksekusi menghasilkan beberapa file log. Anda dapat melihat ini di widget, atau Anda dapat menggunakan metode **get_details_with_logs** seperti yang kita lakukan sebelumnya, hanya saja kali ini output akan menyertakan data log."
      ],
      "metadata": {}
    },
    {
      "cell_type": "code",
      "source": [
        "run.get_details_with_logs()"
      ],
      "outputs": [],
      "execution_count": null,
      "metadata": {
        "gather": {
          "logged": 1649363668206
        }
      }
    },
    {
      "cell_type": "markdown",
      "source": [
        "Meskipun Anda dapat melihat detail log pada output di atas, biasanya lebih mudah untuk mengunduh file log dan melihatnya di editor teks."
      ],
      "metadata": {}
    },
    {
      "cell_type": "code",
      "source": [
        "import os\n",
        "\n",
        "log_folder = 'downloaded-logs'\n",
        "\n",
        "# Download all files\n",
        "run.get_all_logs(destination=log_folder)\n",
        "\n",
        "# Verify the files have been downloaded\n",
        "for root, directories, filenames in os.walk(log_folder): \n",
        "    for filename in filenames:  \n",
        "        print (os.path.join(root,filename))"
      ],
      "outputs": [],
      "execution_count": null,
      "metadata": {
        "gather": {
          "logged": 1649363670778
        }
      }
    },
    {
      "cell_type": "markdown",
      "source": [
        "## Melihat riwayat eksekusi eksperimen\n",
        "\n",
        "Sekarang setelah Anda menjalankan eksperimen yang sama beberapa kali, Anda dapat melihat riwayat di [Studio Azure Machine Learning](https://ml.azure.com) dan menjelajahi setiap eksekusi yang dicatat. Atau Anda dapat mengambil eksperimen berdasarkan nama dari ruang kerja dan mengulangi eksekusi ruang kerja menggunakan SDK:"
      ],
      "metadata": {}
    },
    {
      "cell_type": "code",
      "source": [
        "from azureml.core import Experiment, Run\n",
        "\n",
        "diabetes_experiment = ws.experiments['mslearn-diabetes']\n",
        "for logged_run in diabetes_experiment.get_runs():\n",
        "    print('Run ID:', logged_run.id)\n",
        "    metrics = logged_run.get_metrics()\n",
        "    for key in metrics.keys():\n",
        "        print('-', key, metrics.get(key))"
      ],
      "outputs": [],
      "execution_count": null,
      "metadata": {
        "gather": {
          "logged": 1649363706798
        }
      }
    },
    {
      "cell_type": "markdown",
      "source": [
        "## Menggunakan MLflow\n",
        "\n",
        "MLflow adalah platform sumber terbuka untuk mengelola proses pembelajaran mesin. MLflow biasanya (tetapi tidak secara eksklusif) digunakan di lingkungan Databricks untuk mengoordinasikan eksperimen dan melacak metrik. Dalam eksperimen Azure Machine Learning, Anda dapat menggunakan MLflow untuk melacak metrik sebagai alternatif dari fungsionalitas log native.\n",
        "\n",
        "Untuk memanfaatkan kemampuan ini, Anda memerlukan paket **azureml-mlflow**, jadi pastikan paket tersebut sudah diinstal."
      ],
      "metadata": {}
    },
    {
      "cell_type": "code",
      "source": [
        "pip show azureml-mlflow"
      ],
      "outputs": [],
      "execution_count": null,
      "metadata": {
        "gather": {
          "logged": 1649363713535
        }
      }
    },
    {
      "cell_type": "markdown",
      "source": [
        "### Menggunakan MLflow dengan eksperimen sebaris\n",
        "\n",
        "Untuk menggunakan MLflow guna melacak metrik eksperimen sebaris, Anda harus mengatur MLflow *URI pelacakan* ke ruang kerja tempat eksperimen dijalankan. Hal ini memungkinkan Anda menggunakan metode pelacakan **mlflow** untuk mencatat data ke eksekusi eksperimen."
      ],
      "metadata": {}
    },
    {
      "cell_type": "code",
      "source": [
        "from azureml.core import Experiment\n",
        "import pandas as pd\n",
        "import mlflow\n",
        "\n",
        "# Set the MLflow tracking URI to the workspace\n",
        "mlflow.set_tracking_uri(ws.get_mlflow_tracking_uri())\n",
        "\n",
        "# Create an Azure ML experiment in your workspace\n",
        "experiment = Experiment(workspace=ws, name='mslearn-diabetes-mlflow')\n",
        "mlflow.set_experiment(experiment.name)\n",
        "\n",
        "# start the MLflow experiment\n",
        "with mlflow.start_run():\n",
        "    \n",
        "    print(\"Starting experiment:\", experiment.name)\n",
        "    \n",
        "    # Load data\n",
        "    data = pd.read_csv('data/diabetes.csv')\n",
        "\n",
        "    # Count the rows and log the result\n",
        "    row_count = (len(data))\n",
        "    mlflow.log_metric('observations', row_count)\n",
        "    print(\"Run complete\")"
      ],
      "outputs": [],
      "execution_count": null,
      "metadata": {
        "gather": {
          "logged": 1649363717485
        }
      }
    },
    {
      "cell_type": "markdown",
      "source": [
        "Sekarang mari kita lihat metrik yang dicatat selama eksekusi"
      ],
      "metadata": {}
    },
    {
      "cell_type": "code",
      "source": [
        "# Get the latest run of the experiment\n",
        "run = list(experiment.get_runs())[0]\n",
        "\n",
        "# Get logged metrics\n",
        "print(\"\\nMetrics:\")\n",
        "metrics = run.get_metrics()\n",
        "for key in metrics.keys():\n",
        "        print(key, metrics.get(key))\n",
        "    \n",
        "# Get a link to the experiment in Azure ML studio   \n",
        "experiment_url = experiment.get_portal_url()\n",
        "print('See details at', experiment_url)"
      ],
      "outputs": [],
      "execution_count": null,
      "metadata": {
        "gather": {
          "logged": 1649363720202
        }
      }
    },
    {
      "cell_type": "markdown",
      "source": [
        "Setelah menjalankan kode di atas, Anda dapat menggunakan tautan yang ditampilkan untuk melihat eksperimen di studio Azure Machine Learning. Kemudian pilih eksperimen terbaru dan lihat tab **Metrik** untuk melihat metrik yang dicatat.\n",
        "\n",
        "### Menggunakan MLflow dalam skrip eksperimen\n",
        "\n",
        "Anda juga dapat menggunakan MLflow untuk melacak metrik dalam skrip eksperimen.\n",
        "\n",
        "Jalankan dua sel berikut untuk membuat folder dan skrip untuk eksperimen yang menggunakan MLflow."
      ],
      "metadata": {}
    },
    {
      "cell_type": "code",
      "source": [
        "import os, shutil\n",
        "\n",
        "# Create a folder for the experiment files\n",
        "folder_name = 'mlflow-experiment-files'\n",
        "experiment_folder = './' + folder_name\n",
        "os.makedirs(folder_name, exist_ok=True)\n",
        "\n",
        "# Copy the data file into the experiment folder\n",
        "shutil.copy('data/diabetes.csv', os.path.join(folder_name, \"diabetes.csv\"))"
      ],
      "outputs": [],
      "execution_count": null,
      "metadata": {
        "gather": {
          "logged": 1649363722917
        }
      }
    },
    {
      "cell_type": "code",
      "source": [
        "%%writefile $folder_name/mlflow_diabetes.py\n",
        "from azureml.core import Run\n",
        "import pandas as pd\n",
        "import mlflow\n",
        "\n",
        "\n",
        "# start the MLflow experiment\n",
        "with mlflow.start_run():\n",
        "       \n",
        "    # Load data\n",
        "    data = pd.read_csv('diabetes.csv')\n",
        "\n",
        "    # Count the rows and log the result\n",
        "    row_count = (len(data))\n",
        "    print('observations:', row_count)\n",
        "    mlflow.log_metric('observations', row_count)"
      ],
      "outputs": [],
      "execution_count": null,
      "metadata": {}
    },
    {
      "cell_type": "markdown",
      "source": [
        "Saat Anda menggunakan pelacakan MLflow dalam skrip eksperimen Azure Machine Learning, URI pelacakan MLflow diatur secara otomatis saat Anda memulai eksekusi eksperimen. Tetapi, lingkungan tempat skrip akan dijalankan harus menyertakan paket **mlflow** yang diperlukan."
      ],
      "metadata": {}
    },
    {
      "cell_type": "code",
      "source": [
        "from azureml.core import Experiment, ScriptRunConfig, Environment\n",
        "from azureml.core.runconfig import DockerConfiguration\n",
        "from azureml.widgets import RunDetails\n",
        "\n",
        "\n",
        "# Create a Python environment for the experiment (from a .yml file)\n",
        "env = Environment.from_conda_specification(\"experiment_env\", \"environment.yml\")\n",
        "\n",
        "# Create a script config\n",
        "script_mlflow = ScriptRunConfig(source_directory=experiment_folder,\n",
        "                                script='mlflow_diabetes.py',\n",
        "                                environment=env,\n",
        "                                docker_runtime_config=DockerConfiguration(use_docker=True)) \n",
        "\n",
        "# submit the experiment\n",
        "experiment = Experiment(workspace=ws, name='mslearn-diabetes-mlflow')\n",
        "run = experiment.submit(config=script_mlflow)\n",
        "RunDetails(run).show()\n",
        "run.wait_for_completion()"
      ],
      "outputs": [],
      "execution_count": null,
      "metadata": {
        "scrolled": false,
        "gather": {
          "logged": 1649363740151
        }
      }
    },
    {
      "cell_type": "markdown",
      "source": [
        "Seperti biasa, Anda bisa mendapatkan metrik yang dicatat dari eksekusi eksperimen setelah selesai."
      ],
      "metadata": {}
    },
    {
      "cell_type": "code",
      "source": [
        "# Get logged metrics\n",
        "metrics = run.get_metrics()\n",
        "for key in metrics.keys():\n",
        "        print(key, metrics.get(key))"
      ],
      "outputs": [],
      "execution_count": null,
      "metadata": {
        "gather": {
          "logged": 1649363744091
        }
      }
    },
    {
      "cell_type": "markdown",
      "source": [
        "> **Informasi Selengkapnya**: Untuk mengetahui selengkapnya tentang menjalankan eksperimen, lihat [topik ini](https://docs.microsoft.com/azure/machine-learning/how-to-manage-runs) di dokumentasi Azure Machine Learning. Untuk detail tentang cara mencatat metrik dalam eksekusi, lihat [topik ini](https://docs.microsoft.com/azure/machine-learning/how-to-track-experiments). Untuk informasi selengkapnya tentang mengintegrasikan eksperimen Azure Machine Learning dengan MLflow, lihat [topik ini](https://docs.microsoft.com/en-us/azure/machine-learning/how-to-use-mlflow)."
      ],
      "metadata": {}
    }
  ],
  "metadata": {
    "kernelspec": {
      "name": "python38-azureml",
      "language": "python",
      "display_name": "Python 3.8 - AzureML"
    },
    "language_info": {
      "name": "python",
      "version": "3.8.5",
      "mimetype": "text/x-python",
      "codemirror_mode": {
        "name": "ipython",
        "version": 3
      },
      "pygments_lexer": "ipython3",
      "nbconvert_exporter": "python",
      "file_extension": ".py"
    },
    "kernel_info": {
      "name": "python38-azureml"
    },
    "nteract": {
      "version": "nteract-front-end@1.0.0"
    }
  },
  "nbformat": 4,
  "nbformat_minor": 0
}