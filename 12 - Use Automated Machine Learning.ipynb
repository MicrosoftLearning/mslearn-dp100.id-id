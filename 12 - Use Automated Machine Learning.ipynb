{
  "cells": [
    {
      "cell_type": "markdown",
      "source": [
        "# Menggunakan Pembelajaran Mesin Otomatis\n",
        "\n",
        "Ada banyak jenis algoritme pembelajaran mesin yang dapat Anda gunakan untuk melatih model, dan terkadang tidak mudah untuk menentukan algoritme yang paling efektif untuk persyaratan data dan prediksi Anda. Selain itu, Anda dapat secara signifikan memengaruhi performa prediktif model dengan melakukan pra-pemrosesan data pelatihan, menggunakan teknik seperti normalisasi, imputasi fitur yang hilang, dan lainnya. Dalam upaya Anda untuk menemukan model *terbaik* untuk kebutuhan Anda, Anda mungkin perlu mencoba banyak kombinasi algoritme dan transformasi prapemrosesan; yang memakan banyak waktu dan sumber daya komputasi.\n",
        "\n",
        "Azure Machine Learning memungkinkan Anda untuk mengotomatiskan perbandingan model yang dilatih menggunakan algoritme dan opsi prapemrosesan yang berbeda. Anda dapat menggunakan antarmuka visual di [Azure Machine Learning studio](https://ml/azure.com) atau SDK untuk memanfaatkan kemampuan ini. SDK memberi Anda kontrol yang lebih besar atas setelan untuk eksperimen pembelajaran mesin otomatis, tetapi antarmuka visual lebih mudah digunakan.\n",
        "\n",
        "## Sebelum memulai\n",
        "\n",
        "Selain versi terbaru paket **azureml-sdk** dan **azureml-widgets**, Anda memerlukan paket **azureml-train-automl** untuk menjalankan kode di notebook ini. Jalankan sel di bawah ini untuk memverifikasi bahwa itu diinstal."
      ],
      "metadata": {}
    },
    {
      "cell_type": "code",
      "source": [
        "pip show azureml-train-automl"
      ],
      "outputs": [],
      "execution_count": null,
      "metadata": {
        "vscode": {
          "languageId": "python"
        },
        "gather": {
          "logged": 1649367946616
        }
      }
    },
    {
      "cell_type": "markdown",
      "source": [
        "## Menghubungkan ke ruang kerja Anda\n",
        "\n",
        "Dengan menginstal paket SDK yang diperlukan, sekarang Anda siap untuk terhubung ke ruang kerja Anda.\n",
        "\n",
        "> **Catatan**: Jika Anda belum membuat sesi yang terautentikasi dengan langganan Azure, Anda akan diminta untuk mengautentikasi dengan mengklik tautan, memasukkan kode autentikasi, dan masuk ke Azure."
      ],
      "metadata": {}
    },
    {
      "cell_type": "code",
      "source": [
        "import azureml.core\n",
        "from azureml.core import Workspace\n",
        "\n",
        "# Load the workspace from the saved config file\n",
        "ws = Workspace.from_config()\n",
        "print('Ready to use Azure ML {} to work with {}'.format(azureml.core.VERSION, ws.name))"
      ],
      "outputs": [],
      "execution_count": null,
      "metadata": {
        "vscode": {
          "languageId": "python"
        },
        "gather": {
          "logged": 1649368014007
        }
      }
    },
    {
      "cell_type": "markdown",
      "source": [
        "## Mempersiapkan data\n",
        "\n",
        "Anda tidak perlu membuat skrip pelatihan untuk pembelajaran mesin otomatis, tetapi Anda perlu memuat data pelatihan. Dalam hal ini, Anda akan menggunakan set data yang berisi detail pasien diabetes, lalu membaginya menjadi dua set data: satu untuk pelatihan, dan satu lagi untuk validasi model."
      ],
      "metadata": {}
    },
    {
      "cell_type": "code",
      "source": [
        "from azureml.core import Dataset\n",
        "\n",
        "default_ds = ws.get_default_datastore()\n",
        "\n",
        "if 'diabetes dataset' not in ws.datasets:\n",
        "    default_ds.upload_files(files=['./data/diabetes.csv', './data/diabetes2.csv'], # Upload the diabetes csv files in /data\n",
        "                        target_path='diabetes-data/', # Put it in a folder path in the datastore\n",
        "                        overwrite=True, # Replace existing files of the same name\n",
        "                        show_progress=True)\n",
        "\n",
        "    #Create a tabular dataset from the path on the datastore (this may take a short while)\n",
        "    tab_data_set = Dataset.Tabular.from_delimited_files(path=(default_ds, 'diabetes-data/*.csv'))\n",
        "\n",
        "    # Register the tabular dataset\n",
        "    try:\n",
        "        tab_data_set = tab_data_set.register(workspace=ws, \n",
        "                                name='diabetes dataset',\n",
        "                                description='diabetes data',\n",
        "                                tags = {'format':'CSV'},\n",
        "                                create_new_version=True)\n",
        "        print('Dataset registered.')\n",
        "    except Exception as ex:\n",
        "        print(ex)\n",
        "else:\n",
        "    print('Dataset already registered.')\n",
        "\n",
        "\n",
        "# Split the dataset into training and validation subsets\n",
        "diabetes_ds = ws.datasets.get(\"diabetes dataset\")\n",
        "train_ds, test_ds = diabetes_ds.random_split(percentage=0.7, seed=123)\n",
        "print(\"Data ready!\")"
      ],
      "outputs": [],
      "execution_count": null,
      "metadata": {
        "vscode": {
          "languageId": "python"
        }
      }
    },
    {
      "cell_type": "markdown",
      "source": [
        "## Menyiapkan komputasi\n",
        "\n",
        "Salah satu manfaat komputasi awan adalah skalanya sesuai permintaan, memungkinkan Anda menyediakan sumber daya komputasi yang cukup untuk memproses beberapa percobaan pembelajaran mesin otomatis yang dijalankan oleh beberapa anak secara paralel.\n",
        "\n",
        "Gunakan kode berikut untuk menentukan kluster komputasi Azure Machine Learning (akan dibuat jika belum ada)..\n",
        "\n",
        "> **Penting**: Ubah *your-compute-cluster* menjadi nama kluster komputasi Anda dalam kode di bawah ini sebelum menjalankannya! Nama kluster harus berupa nama unik global dengan panjang antara 2 hingga 16 karakter. Karakter yang valid adalah huruf, angka, dan - karakter."
      ],
      "metadata": {}
    },
    {
      "cell_type": "code",
      "source": [
        "from azureml.core.compute import ComputeTarget, AmlCompute\n",
        "from azureml.core.compute_target import ComputeTargetException\n",
        "\n",
        "cluster_name = \"your-compute-cluster\"\n",
        "\n",
        "try:\n",
        "    # Check for existing compute target\n",
        "    training_cluster = ComputeTarget(workspace=ws, name=cluster_name)\n",
        "    print('Found existing cluster, use it.')\n",
        "except ComputeTargetException:\n",
        "    # If it doesn't already exist, create it\n",
        "    try:\n",
        "        compute_config = AmlCompute.provisioning_configuration(vm_size='STANDARD_DS11_V2', max_nodes=2)\n",
        "        training_cluster = ComputeTarget.create(ws, cluster_name, compute_config)\n",
        "        training_cluster.wait_for_completion(show_output=True)\n",
        "    except Exception as ex:\n",
        "        print(ex)\n",
        "    "
      ],
      "outputs": [],
      "execution_count": null,
      "metadata": {
        "vscode": {
          "languageId": "python"
        }
      }
    },
    {
      "cell_type": "markdown",
      "source": [
        "> **Catatan**: Instans dan kluster komputasi didasarkan pada gambar mesin virtual Azure standar. Untuk latihan ini, gambar *Standard_DS11_v2* direkomendasikan untuk mencapai keseimbangan optimal antara biaya dan performa. Jika langganan Anda memiliki kuota yang tidak menyertakan gambar ini, pilih gambar alternatif; tetapi perlu diingat bahwa gambar yang lebih besar mungkin memerlukan biaya lebih tinggi dan gambar yang lebih kecil mungkin tidak cukup untuk menyelesaikan tugas. Atau, minta administrator Azure Anda untuk memperbesar kuota Anda.\n",
        "\n",
        "## Mengonfigurasi pembelajaran mesin otomatis\n",
        "\n",
        "Sekarang Anda siap mengonfigurasi eksperimen pembelajaran mesin otomatis.\n",
        "\n",
        "Salah satu pengaturan konfigurasi yang paling penting adalah metrik yang performa modelnya harus dievaluasi. Anda dapat mengambil daftar metrik yang dihitung dengan pembelajaran mesin otomatis untuk jenis tugas model tertentu (klasifikasi atau regresi) seperti ini:"
      ],
      "metadata": {}
    },
    {
      "cell_type": "code",
      "source": [
        "import azureml.train.automl.utilities as automl_utils\n",
        "\n",
        "for metric in automl_utils.get_primary_metrics('classification'):\n",
        "    print(metric)"
      ],
      "outputs": [],
      "execution_count": null,
      "metadata": {
        "vscode": {
          "languageId": "python"
        }
      }
    },
    {
      "cell_type": "markdown",
      "source": [
        "Setelah memutuskan metrik yang ingin Anda optimalkan (dalam contoh ini, *AUC_weighted*), Anda dapat mengonfigurasi proses pembelajaran mesin otomatis. Untuk melakukannya, Anda memerlukan konfigurasi AutoML yang menentukan metrik target serta opsi seperti data yang akan digunakan, berapa banyak kombinasi yang harus dicoba, dan sebagainya.\n",
        "\n",
        "> **Catatan**: Dalam contoh ini, Anda akan membatasi eksperimen menjadi 4 perulangan untuk mengurangi jumlah waktu yang dibutuhkan. Pada kenyataannya, Anda mungkin akan mencoba lebih banyak perulangan."
      ],
      "metadata": {}
    },
    {
      "cell_type": "code",
      "source": [
        "from azureml.train.automl import AutoMLConfig\n",
        "\n",
        "automl_config = AutoMLConfig(name='Automated ML Experiment',\n",
        "                             task='classification',\n",
        "                             compute_target=training_cluster,\n",
        "                             training_data = train_ds,\n",
        "                             validation_data = test_ds,\n",
        "                             label_column_name='Diabetic',\n",
        "                             iterations=4,\n",
        "                             primary_metric = 'AUC_weighted',\n",
        "                             max_concurrent_iterations=2,\n",
        "                             featurization='auto'\n",
        "                             )\n",
        "\n",
        "print(\"Ready for Auto ML run.\")"
      ],
      "outputs": [],
      "execution_count": null,
      "metadata": {
        "vscode": {
          "languageId": "python"
        }
      }
    },
    {
      "cell_type": "markdown",
      "source": [
        "## Menjalankan eksperimen pembelajaran mesin otomatis\n",
        "\n",
        "Oke, Anda siap melanjutkan. Mari kita jalankan eksperimen pembelajaran mesin otomatis.\n",
        "\n",
        "> **Catatan**: Ini mungkin memakan waktu lama!"
      ],
      "metadata": {}
    },
    {
      "cell_type": "code",
      "source": [
        "from azureml.core.experiment import Experiment\n",
        "from azureml.widgets import RunDetails\n",
        "\n",
        "print('Submitting Auto ML experiment...')\n",
        "automl_experiment = Experiment(ws, 'mslearn-diabetes-automl-sdk')\n",
        "automl_run = automl_experiment.submit(automl_config)\n",
        "RunDetails(automl_run).show()\n",
        "automl_run.wait_for_completion(show_output=True)"
      ],
      "outputs": [],
      "execution_count": null,
      "metadata": {
        "scrolled": true,
        "vscode": {
          "languageId": "python"
        }
      }
    },
    {
      "cell_type": "markdown",
      "source": [
        "## Melihat detail eksekusi turunan\n",
        "\n",
        "Saat eksperimen selesai, lihat output di widget, dan klik proses yang menghasilkan hasil terbaik untuk melihat detailnya.\n",
        "\n",
        "Kemudian klik tautan untuk melihat detail eksperimen di studio Azure Machine Learning dan lihat detail eksperimen keseluruhan sebelum melihat detail untuk masing-masing proses yang menghasilkan hasil terbaik. Ada banyak informasi di sini tentang performa model yang dihasilkan.\n",
        "\n",
        "Anda juga dapat mengambil semua turunan yang berjalan dan melihat metriknya menggunakan SDK:"
      ],
      "metadata": {}
    },
    {
      "cell_type": "code",
      "source": [
        "for run in automl_run.get_children():\n",
        "    print('Run ID', run.id)\n",
        "    for metric in run.get_metrics():\n",
        "        print('\\t', run.get_metrics(metric))"
      ],
      "outputs": [],
      "execution_count": null,
      "metadata": {
        "vscode": {
          "languageId": "python"
        }
      }
    },
    {
      "cell_type": "markdown",
      "source": [
        "## Mendapatkan eksekusi terbaik\n",
        "\n",
        "Anda dapat mengambil eksekusi dengan performa terbaik, dan melihat detailnya seperti ini:"
      ],
      "metadata": {}
    },
    {
      "cell_type": "code",
      "source": [
        "best_run, fitted_model = automl_run.get_output()\n",
        "print(best_run)\n",
        "print('\\nBest Model Definition:')\n",
        "print(fitted_model)\n",
        "print('\\nBest Run Transformations:')\n",
        "for step in fitted_model.named_steps:\n",
        "    print(step)\n",
        "print('\\nBest Run Metrics:')\n",
        "best_run_metrics = best_run.get_metrics()\n",
        "for metric_name in best_run_metrics:\n",
        "    metric = best_run_metrics[metric_name]\n",
        "    print(metric_name, metric)"
      ],
      "outputs": [],
      "execution_count": null,
      "metadata": {
        "vscode": {
          "languageId": "python"
        }
      }
    },
    {
      "cell_type": "markdown",
      "source": [
        "Akhirnya, setelah menemukan model berperforma terbaik, Anda dapat mendaftarkannya."
      ],
      "metadata": {}
    },
    {
      "cell_type": "code",
      "source": [
        "from azureml.core import Model\n",
        "\n",
        "# Register model\n",
        "best_run.register_model(model_path='outputs/model.pkl', model_name='diabetes_model',\n",
        "                        tags={'Training context':'Auto ML'},\n",
        "                        properties={'AUC': best_run_metrics['AUC_weighted'], 'Accuracy': best_run_metrics['accuracy']})\n",
        "\n",
        "# List registered models\n",
        "for model in Model.list(ws):\n",
        "    print(model.name, 'version:', model.version)\n",
        "    for tag_name in model.tags:\n",
        "        tag = model.tags[tag_name]\n",
        "        print ('\\t',tag_name, ':', tag)\n",
        "    for prop_name in model.properties:\n",
        "        prop = model.properties[prop_name]\n",
        "        print ('\\t',prop_name, ':', prop)\n",
        "    print('\\n')"
      ],
      "outputs": [],
      "execution_count": null,
      "metadata": {
        "vscode": {
          "languageId": "python"
        }
      }
    },
    {
      "cell_type": "markdown",
      "source": [
        "> **Informasi Lebih Lanjut**: Untuk informasi selengkapnya Pembelajaran Mesin Otomatis, lihat [dokumentasi Azure ML](https://docs.microsoft.com/azure/machine-learning/how-to-configure-auto-train)."
      ],
      "metadata": {}
    }
  ],
  "metadata": {
    "kernelspec": {
      "name": "python38-azureml",
      "language": "python",
      "display_name": "Python 3.8 - AzureML"
    },
    "language_info": {
      "name": "python",
      "version": "3.8.5",
      "mimetype": "text/x-python",
      "codemirror_mode": {
        "name": "ipython",
        "version": 3
      },
      "pygments_lexer": "ipython3",
      "nbconvert_exporter": "python",
      "file_extension": ".py"
    },
    "kernel_info": {
      "name": "python38-azureml"
    },
    "nteract": {
      "version": "nteract-front-end@1.0.0"
    }
  },
  "nbformat": 4,
  "nbformat_minor": 0
}