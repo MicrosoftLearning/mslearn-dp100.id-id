{
  "cells": [
    {
      "cell_type": "markdown",
      "source": [
        "# Memulai Notebook dalam Azure Machine Learning\n",
        "\n",
        "Azure Machine Learning adalah layanan berbasis cloud untuk membuat dan mengelola solusi pembelajaran mesin. Ini dirancang untuk membantu ilmuwan data dan insinyur pembelajaran mesin memanfaatkan keterampilan dan kerangka kerja pemrosesan data dan pengembangan model yang ada, dan menskalakan beban kerja mereka ke cloud.\n",
        "\n",
        "Banyak pekerjaan ilmu data dan pembelajaran mesin diselesaikan di notebook seperti ini. Buku catatan terdiri dari *sel*, beberapa di antaranya (seperti yang berisi teks ini) digunakan untuk catatan, grafik, dan konten lain yang biasanya ditulis menggunakan *penurunan harga*; sementara yang lain (seperti sel di bawah ini) berisi kode yang dapat Anda jalankan secara interaktif di dalam notebook.\n",
        "\n",
        "## Azure Machine Learning Python SDK\n",
        "\n",
        "Anda dapat menjalankan hampir semua kode Python di buku catatan, asalkan paket Python yang diperlukan diinstal di lingkungan tempat Anda menjalankannya. Dalam hal ini, Anda menjalankan notebook di lingkungan *Conda* pada instans komputasi Azure Machine Learning. Lingkungan ini diinstal di instance komputasi secara default, dan berisi paket Python umum yang biasanya digunakan oleh ilmuwan data. Ini juga mencakup Azure Machine Learning Python SDK, yang merupakan paket Python yang memungkinkan Anda menulis kode yang menggunakan sumber daya di ruang kerja Azure Machine Learning Anda.\n",
        "\n",
        "Jalankan sel di bawah ini untuk mengimpor paket **azureml-core** dan memeriksa versi SDK yang diinstal."
      ],
      "metadata": {}
    },
    {
      "cell_type": "code",
      "source": [
        "import azureml.core\n",
        "\n",
        "print(\"Ready to use Azure ML\", azureml.core.VERSION)"
      ],
      "outputs": [],
      "execution_count": null,
      "metadata": {
        "gather": {
          "logged": 1649344943458
        }
      }
    },
    {
      "cell_type": "markdown",
      "source": [
        "## Menghubungkan ke ruang kerja Anda\n",
        "\n",
        "Semua eksperimen dan sumber daya terkait dikelola dalam ruang kerja Azure Machine Learning Anda. Anda dapat terhubung ke ruang kerja yang sudah ada, atau membuat yang baru menggunakan Azure Machine Learning SDK.\n",
        "\n",
        "Dalam kebanyakan kasus, Anda harus menyimpan informasi koneksi ruang kerja dalam file konfigurasi JSON. Ini membuatnya lebih mudah untuk terhubung tanpa perlu mengingat detail seperti ID langganan Azure Anda. Anda dapat mengunduh file konfigurasi JSON dari panel untuk ruang kerja Anda di portal Azure atau dari panel detail ruang kerja di studio Azure Machine Learning, tetapi jika Anda menggunakan instans komputasi dalam ruang kerja Anda, file konfigurasi telah diunduh ke folder akar.\n",
        "\n",
        "Kode di bawah ini menggunakan file konfigurasi untuk terhubung ke ruang kerja Anda.\n",
        "\n",
        "> **Catatan**: Saat pertama kali tersambung ke ruang kerja dalam sesi buku catatan, Anda mungkin diminta untuk masuk ke Azure dengan mengeklik tautan `https://microsoft.com/devicelogin`, memasukkan kode yang dibuat secara otomatis, dan masuk ke Azure. Setelah Anda berhasil masuk, Anda dapat menutup tab browser yang dibuka dan kembali ke buku catatan ini."
      ],
      "metadata": {}
    },
    {
      "cell_type": "code",
      "source": [
        "from azureml.core import Workspace\n",
        "\n",
        "ws = Workspace.from_config()\n",
        "print(ws.name, \"loaded\")"
      ],
      "outputs": [],
      "execution_count": null,
      "metadata": {
        "gather": {
          "logged": 1649344982702
        }
      }
    },
    {
      "cell_type": "markdown",
      "source": [
        "## Melihat sumber daya Azure Machine Learning di ruang kerja\n",
        "\n",
        "Sekarang Anda memiliki koneksi ke ruang kerja Anda, Anda dapat bekerja dengan sumber daya. Misalnya, Anda dapat menggunakan kode berikut untuk menghitung sumber daya komputasi di ruang kerja Anda."
      ],
      "metadata": {}
    },
    {
      "cell_type": "code",
      "source": [
        "print(\"Compute Resources:\")\n",
        "for compute_name in ws.compute_targets:\n",
        "    compute = ws.compute_targets[compute_name]\n",
        "    print(\"\\t\", compute.name, ':', compute.type)"
      ],
      "outputs": [],
      "execution_count": null,
      "metadata": {
        "gather": {
          "logged": 1649344958183
        }
      }
    },
    {
      "cell_type": "markdown",
      "source": [
        "Setelah selesai menjelajahi buku catatan ini, Anda dapat menyimpan perubahan apa pun yang telah Anda buat dan menutupnya."
      ],
      "metadata": {}
    }
  ],
  "metadata": {
    "kernelspec": {
      "name": "python38-azureml",
      "language": "python",
      "display_name": "Python 3.8 - AzureML"
    },
    "language_info": {
      "name": "python",
      "version": "3.8.5",
      "mimetype": "text/x-python",
      "codemirror_mode": {
        "name": "ipython",
        "version": 3
      },
      "pygments_lexer": "ipython3",
      "nbconvert_exporter": "python",
      "file_extension": ".py"
    },
    "kernel_info": {
      "name": "python38-azureml"
    },
    "microsoft": {
      "host": {
        "AzureML": {
          "notebookHasBeenCompleted": true
        }
      }
    },
    "nteract": {
      "version": "nteract-front-end@1.0.0"
    }
  },
  "nbformat": 4,
  "nbformat_minor": 0
}