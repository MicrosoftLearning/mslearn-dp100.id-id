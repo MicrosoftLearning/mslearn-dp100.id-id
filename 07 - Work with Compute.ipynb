{
  "cells": [
    {
      "cell_type": "markdown",
      "metadata": {},
      "source": [
        "# Bekerja dengan Komputasi\n",
        "\n",
        "Saat Anda menjalankan skrip sebagai eksperimen Azure Machine Learning, Anda perlu menentukan konteks eksekusi untuk eksekusi eksperimen. Konteks eksekusi terdiri dari:\n",
        "\n",
        "* Lingkungan Python untuk skrip, yang harus menyertakan semua paket Python yang digunakan dalam skrip.\n",
        "* Target komputasi tempat skrip akan dijalankan. Ini bisa berupa stasiun kerja lokal tempat eksekusi eksperimen dijalankan, atau target komputasi jarak jauh seperti kluster pelatihan yang disediakan sesuai permintaan.\n",
        "\n",
        "Dalam buku catatan ini, Anda akan menjelajahi *lingkungan* dan *target komputasi* untuk eksperimen."
      ]
    },
    {
      "cell_type": "markdown",
      "metadata": {},
      "source": [
        "## Menghubungkan ke ruang kerja Anda\n",
        "\n",
        "Untuk memulai, hubungkan ke ruang kerja Anda.\n",
        "\n",
        "> **Catatan**: Jika Anda belum membuat sesi yang terautentikasi dengan langganan Azure, Anda akan diminta untuk mengautentikasi dengan mengklik tautan, memasukkan kode autentikasi, dan masuk ke Azure."
      ]
    },
    {
      "cell_type": "code",
      "execution_count": null,
      "metadata": {
        "gather": {
          "logged": 1649366407895
        }
      },
      "outputs": [],
      "source": [
        "import azureml.core\n",
        "from azureml.core import Workspace\n",
        "\n",
        "# Load the workspace from the saved config file\n",
        "ws = Workspace.from_config()\n",
        "print('Ready to use Azure ML {} to work with {}'.format(azureml.core.VERSION, ws.name))"
      ]
    },
    {
      "cell_type": "markdown",
      "metadata": {},
      "source": [
        "## Mempersiapkan data untuk eksperimen\n",
        "\n",
        "Dalam buku catatan ini, Anda akan menggunakan himpunan data yang berisi detail pasien diabetes. Jalankan sel di bawah ini untuk membuat himpunan data ini (jika sudah ada, kode akan menemukan versi yang ada)"
      ]
    },
    {
      "cell_type": "code",
      "execution_count": null,
      "metadata": {
        "gather": {
          "logged": 1649366412436
        }
      },
      "outputs": [],
      "source": [
        "from azureml.core import Dataset\n",
        "from azureml.data.datapath import DataPath\n",
        "\n",
        "default_ds = ws.get_default_datastore()\n",
        "\n",
        "if 'diabetes dataset' not in ws.datasets:\n",
        "    Dataset.File.upload_directory(src_dir='data',\n",
        "                              target=DataPath(default_ds, 'diabetes-data/')\n",
        "                              )\n",
        "\n",
        "    #Create a tabular dataset from the path on the datastore (this may take a short while)\n",
        "    tab_data_set = Dataset.Tabular.from_delimited_files(path=(default_ds, 'diabetes-data/*.csv'))\n",
        "\n",
        "    # Register the tabular dataset\n",
        "    try:\n",
        "        tab_data_set = tab_data_set.register(workspace=ws, \n",
        "                                name='diabetes dataset',\n",
        "                                description='diabetes data',\n",
        "                                tags = {'format':'CSV'},\n",
        "                                create_new_version=True)\n",
        "        print('Dataset registered.')\n",
        "    except Exception as ex:\n",
        "        print(ex)\n",
        "else:\n",
        "    print('Dataset already registered.')"
      ]
    },
    {
      "cell_type": "markdown",
      "metadata": {},
      "source": [
        "## Membuat skrip pelatihan\n",
        "\n",
        "Jalankan dua sel berikut untuk membuat:\n",
        "\n",
        "1. Folder untuk eksperimen baru\n",
        "2. File skrip pelatihan yang menggunakan **scikit-learn** untuk melatih model dan **matplotlib** untuk membuat plot kurva ROC."
      ]
    },
    {
      "cell_type": "code",
      "execution_count": null,
      "metadata": {
        "gather": {
          "logged": 1649366415622
        }
      },
      "outputs": [],
      "source": [
        "import os\n",
        "\n",
        "# Create a folder for the experiment files\n",
        "experiment_folder = 'diabetes_training_logistic'\n",
        "os.makedirs(experiment_folder, exist_ok=True)\n",
        "print(experiment_folder, 'folder created')"
      ]
    },
    {
      "cell_type": "code",
      "execution_count": null,
      "metadata": {},
      "outputs": [],
      "source": [
        "%%writefile $experiment_folder/diabetes_training.py\n",
        "# Import libraries\n",
        "import argparse\n",
        "from azureml.core import Run\n",
        "import pandas as pd\n",
        "import numpy as np\n",
        "import joblib\n",
        "import os\n",
        "from sklearn.model_selection import train_test_split\n",
        "from sklearn.linear_model import LogisticRegression\n",
        "from sklearn.metrics import roc_auc_score\n",
        "from sklearn.metrics import roc_curve\n",
        "import matplotlib.pyplot as plt\n",
        "\n",
        "# Get script arguments\n",
        "parser = argparse.ArgumentParser()\n",
        "parser.add_argument('--regularization', type=float, dest='reg_rate', default=0.01, help='regularization rate')\n",
        "parser.add_argument(\"--input-data\", type=str, dest='training_dataset_id', help='training dataset')\n",
        "args = parser.parse_args()\n",
        "\n",
        "# Set regularization hyperparameter\n",
        "reg = args.reg_rate\n",
        "\n",
        "# Get the experiment run context\n",
        "run = Run.get_context()\n",
        "\n",
        "# load the diabetes data (passed as an input dataset)\n",
        "print(\"Loading Data...\")\n",
        "diabetes = run.input_datasets['training_data'].to_pandas_dataframe()\n",
        "\n",
        "# Separate features and labels\n",
        "X, y = diabetes[['Pregnancies','PlasmaGlucose','DiastolicBloodPressure','TricepsThickness','SerumInsulin','BMI','DiabetesPedigree','Age']].values, diabetes['Diabetic'].values\n",
        "\n",
        "# Split data into training set and test set\n",
        "X_train, X_test, y_train, y_test = train_test_split(X, y, test_size=0.30, random_state=0)\n",
        "\n",
        "# Train a logistic regression model\n",
        "print('Training a logistic regression model with regularization rate of', reg)\n",
        "run.log('Regularization Rate',  np.float(reg))\n",
        "model = LogisticRegression(C=1/reg, solver=\"liblinear\").fit(X_train, y_train)\n",
        "\n",
        "# calculate accuracy\n",
        "y_hat = model.predict(X_test)\n",
        "acc = np.average(y_hat == y_test)\n",
        "print('Accuracy:', acc)\n",
        "run.log('Accuracy', np.float(acc))\n",
        "\n",
        "# calculate AUC\n",
        "y_scores = model.predict_proba(X_test)\n",
        "auc = roc_auc_score(y_test,y_scores[:,1])\n",
        "print('AUC: ' + str(auc))\n",
        "run.log('AUC', np.float(auc))\n",
        "\n",
        "# plot ROC curve\n",
        "fpr, tpr, thresholds = roc_curve(y_test, y_scores[:,1])\n",
        "fig = plt.figure(figsize=(6, 4))\n",
        "# Plot the diagonal 50% line\n",
        "plt.plot([0, 1], [0, 1], 'k--')\n",
        "# Plot the FPR and TPR achieved by our model\n",
        "plt.plot(fpr, tpr)\n",
        "plt.xlabel('False Positive Rate')\n",
        "plt.ylabel('True Positive Rate')\n",
        "plt.title('ROC Curve')\n",
        "run.log_image(name = \"ROC\", plot = fig)\n",
        "plt.show()\n",
        "\n",
        "os.makedirs('outputs', exist_ok=True)\n",
        "# note file saved in the outputs folder is automatically uploaded into experiment record\n",
        "joblib.dump(value=model, filename='outputs/diabetes_model.pkl')\n",
        "\n",
        "run.complete()"
      ]
    },
    {
      "cell_type": "markdown",
      "metadata": {},
      "source": [
        "## Menentukan lingkungan\n",
        "\n",
        "Saat Anda menjalankan skrip Python sebagai eksperimen di Azure Machine Learning, lingkungan Conda dibuat untuk menentukan konteks eksekusi skrip. Azure Machine Learning menyediakan lingkungan default yang mencakup banyak paket umum; termasuk paket **azureml-defaults** yang berisi pustaka yang diperlukan untuk bekerja dengan eksekusi eksperimen, serta paket populer seperti **pandas** dan **numpy**.\n",
        "\n",
        "Anda juga dapat menentukan lingkungan Anda sendiri dalam file spesifikasi Conda, menambahkan paket menggunakan **conda** atau **pip** untuk memastikan eksperimen Anda memiliki akses ke semua pustaka yang diperlukan.\n",
        "\n",
        "> **Catatan**: Dependensi conda diinstal terlebih dahulu, diikuti oleh dependensi pip. Karena paket **pip** diperlukan untuk menginstal dependensi pip, sebaiknya sertakan dalam dependensi conda.\n",
        "\n",
        "Jalankan sel berikut untuk membuat file spesifikasi Conda bernama *experiment_env.yml* di folder yang sama dengan buku catatan ini."
      ]
    },
    {
      "cell_type": "code",
      "execution_count": null,
      "metadata": {},
      "outputs": [],
      "source": [
        "%%writefile $experiment_folder/experiment_env.yml\n",
        "name: experiment_env\n",
        "dependencies:\n",
        "  # The python interpreter version.\n",
        "  # Currently Azure ML only supports 3.5.2 and later.\n",
        "- python=3.6.2\n",
        "- scikit-learn\n",
        "- ipykernel\n",
        "- matplotlib\n",
        "- pandas\n",
        "- pip\n",
        "- pip:\n",
        "  - azureml-defaults\n",
        "  - pyarrow"
      ]
    },
    {
      "cell_type": "markdown",
      "metadata": {},
      "source": [
        "Sekarang Anda dapat menggunakan file spesifikasi conda kustom untuk membuat lingkungan untuk eksperimen Anda"
      ]
    },
    {
      "cell_type": "code",
      "execution_count": null,
      "metadata": {
        "gather": {
          "logged": 1649366425019
        }
      },
      "outputs": [],
      "source": [
        "from azureml.core import Environment\n",
        "\n",
        "# Create a Python environment for the experiment (from a .yml file)\n",
        "experiment_env = Environment.from_conda_specification(\"experiment_env\", experiment_folder + \"/experiment_env.yml\")\n",
        "\n",
        "# Let Azure ML manage dependencies\n",
        "experiment_env.python.user_managed_dependencies = False \n",
        "\n",
        "# Print the environment details\n",
        "print(experiment_env.name, 'defined.')\n",
        "print(experiment_env.python.conda_dependencies.serialize_to_string())"
      ]
    },
    {
      "cell_type": "markdown",
      "metadata": {},
      "source": [
        "Sekarang Anda dapat menggunakan lingkungan untuk menjalankan skrip sebagai eksperimen.\n",
        "\n",
        "Kode berikut menetapkan lingkungan yang Anda buat ke ScriptRunConfig, dan mengirimkan eksperimen. Saat eksperimen berjalan, amati detail eksekusi di widget dan di log output **azureml_logs/60_control_log.txt**, Anda akan melihat lingkungan conda sedang dibangun.\n",
        "\n",
        "> **Catatan**: Kode di bawah membuat **DockerConfiguration** untuk eksekusi skrip, dan mengatur atribut **use_docker** ke **True** untuk menghosting lingkungan skrip dalam kontainer Docker. Ini adalah perilaku default, jadi Anda dapat menghilangkan perilaku ini; tetapi kami menyertakan perilaku default di sini agar lebih eksplisit."
      ]
    },
    {
      "cell_type": "code",
      "execution_count": null,
      "metadata": {
        "gather": {
          "logged": 1649366440060
        }
      },
      "outputs": [],
      "source": [
        "from azureml.core import Experiment, ScriptRunConfig\n",
        "from azureml.core.runconfig import DockerConfiguration\n",
        "from azureml.widgets import RunDetails\n",
        "\n",
        "# Get the training dataset\n",
        "diabetes_ds = ws.datasets.get(\"diabetes dataset\")\n",
        "\n",
        "# Create a script config\n",
        "script_config = ScriptRunConfig(source_directory=experiment_folder,\n",
        "                                script='diabetes_training.py',\n",
        "                                arguments = ['--regularization', 0.1, # Regularizaton rate parameter\n",
        "                                             '--input-data', diabetes_ds.as_named_input('training_data')], # Reference to dataset\n",
        "                                environment=experiment_env,\n",
        "                                docker_runtime_config=DockerConfiguration(use_docker=True)) # Use docker to host environment\n",
        "\n",
        "# submit the experiment\n",
        "experiment_name = 'mslearn-train-diabetes'\n",
        "experiment = Experiment(workspace=ws, name=experiment_name)\n",
        "run = experiment.submit(config=script_config)\n",
        "RunDetails(run).show()\n",
        "run.wait_for_completion()"
      ]
    },
    {
      "cell_type": "markdown",
      "metadata": {},
      "source": [
        "Eksperimen berhasil menggunakan lingkungan, yang menyertakan semua paket yang diperlukan - Anda dapat melihat metrik dan output dari eksekusi eksperimen di Studio Azure Machine Learning, atau dengan menjalankan kode di bawah ini - termasuk model yang dilatih menggunakan **scikit-learn ** dan gambar bagan ROC yang dihasilkan menggunakan **matplotlib**."
      ]
    },
    {
      "cell_type": "code",
      "execution_count": null,
      "metadata": {
        "gather": {
          "logged": 1649366443126
        }
      },
      "outputs": [],
      "source": [
        "# Get logged metrics\n",
        "metrics = run.get_metrics()\n",
        "for key in metrics.keys():\n",
        "        print(key, metrics.get(key))\n",
        "print('\\n')\n",
        "for file in run.get_file_names():\n",
        "    print(file)"
      ]
    },
    {
      "cell_type": "markdown",
      "metadata": {},
      "source": [
        "## Mendaftarkan lingkungan\n",
        "\n",
        "Setelah mengalami kesulitan dalam menentukan lingkungan dengan paket yang Anda butuhkan, Anda dapat mendaftarkan lingkungan di ruang kerja."
      ]
    },
    {
      "cell_type": "code",
      "execution_count": null,
      "metadata": {
        "gather": {
          "logged": 1649366446255
        }
      },
      "outputs": [],
      "source": [
        "# Register the environment\n",
        "experiment_env.register(workspace=ws)"
      ]
    },
    {
      "cell_type": "markdown",
      "metadata": {},
      "source": [
        "Perhatikan bahwa lingkungan terdaftar dengan nama yang Anda tetapkan saat pertama kali membuat lingkungan (dalam kasus ini, *diabetes-experiment-env*).\n",
        "\n",
        "Dengan lingkungan yang terdaftar, Anda dapat menggunakannya kembali untuk skrip apa pun yang memiliki persyaratan yang sama. Misalnya, mari kita buat folder dan skrip untuk melatih model diabetes menggunakan algoritma yang berbeda:"
      ]
    },
    {
      "cell_type": "code",
      "execution_count": null,
      "metadata": {
        "gather": {
          "logged": 1649366449250
        }
      },
      "outputs": [],
      "source": [
        "import os\n",
        "\n",
        "# Create a folder for the experiment files\n",
        "experiment_folder = 'diabetes_training_tree'\n",
        "os.makedirs(experiment_folder, exist_ok=True)\n",
        "print(experiment_folder, 'folder created')"
      ]
    },
    {
      "cell_type": "code",
      "execution_count": null,
      "metadata": {},
      "outputs": [],
      "source": [
        "%%writefile $experiment_folder/diabetes_training.py\n",
        "# Import libraries\n",
        "import argparse\n",
        "from azureml.core import Run\n",
        "import pandas as pd\n",
        "import numpy as np\n",
        "import joblib\n",
        "import os\n",
        "from sklearn.model_selection import train_test_split\n",
        "from sklearn.tree import DecisionTreeClassifier\n",
        "from sklearn.metrics import roc_auc_score\n",
        "from sklearn.metrics import roc_curve\n",
        "import matplotlib.pyplot as plt\n",
        "\n",
        "# Get script arguments\n",
        "parser = argparse.ArgumentParser()\n",
        "parser.add_argument(\"--input-data\", type=str, dest='training_dataset_id', help='training dataset')\n",
        "args = parser.parse_args()\n",
        "\n",
        "# Get the experiment run context\n",
        "run = Run.get_context()\n",
        "\n",
        "# load the diabetes data (passed as an input dataset)\n",
        "print(\"Loading Data...\")\n",
        "diabetes = run.input_datasets['training_data'].to_pandas_dataframe()\n",
        "\n",
        "# Separate features and labels\n",
        "X, y = diabetes[['Pregnancies','PlasmaGlucose','DiastolicBloodPressure','TricepsThickness','SerumInsulin','BMI','DiabetesPedigree','Age']].values, diabetes['Diabetic'].values\n",
        "\n",
        "# Split data into training set and test set\n",
        "X_train, X_test, y_train, y_test = train_test_split(X, y, test_size=0.30, random_state=0)\n",
        "\n",
        "# Train a decision tree model\n",
        "print('Training a decision tree model')\n",
        "model = DecisionTreeClassifier().fit(X_train, y_train)\n",
        "\n",
        "# calculate accuracy\n",
        "y_hat = model.predict(X_test)\n",
        "acc = np.average(y_hat == y_test)\n",
        "print('Accuracy:', acc)\n",
        "run.log('Accuracy', np.float(acc))\n",
        "\n",
        "# calculate AUC\n",
        "y_scores = model.predict_proba(X_test)\n",
        "auc = roc_auc_score(y_test,y_scores[:,1])\n",
        "print('AUC: ' + str(auc))\n",
        "run.log('AUC', np.float(auc))\n",
        "\n",
        "# plot ROC curve\n",
        "fpr, tpr, thresholds = roc_curve(y_test, y_scores[:,1])\n",
        "fig = plt.figure(figsize=(6, 4))\n",
        "# Plot the diagonal 50% line\n",
        "plt.plot([0, 1], [0, 1], 'k--')\n",
        "# Plot the FPR and TPR achieved by our model\n",
        "plt.plot(fpr, tpr)\n",
        "plt.xlabel('False Positive Rate')\n",
        "plt.ylabel('True Positive Rate')\n",
        "plt.title('ROC Curve')\n",
        "run.log_image(name = \"ROC\", plot = fig)\n",
        "plt.show()\n",
        "\n",
        "os.makedirs('outputs', exist_ok=True)\n",
        "# note file saved in the outputs folder is automatically uploaded into experiment record\n",
        "joblib.dump(value=model, filename='outputs/diabetes_model.pkl')\n",
        "\n",
        "run.complete()"
      ]
    },
    {
      "cell_type": "markdown",
      "metadata": {},
      "source": [
        "Sekarang Anda dapat mengambil lingkungan terdaftar dan menggunakannya dalam eksperimen baru yang menjalankan skrip pelatihan alternatif (kali ini tidak ada parameter regularisasi karena pengklasifikasi Pohon Keputusan tidak memerlukannya)."
      ]
    },
    {
      "cell_type": "code",
      "execution_count": null,
      "metadata": {
        "gather": {
          "logged": 1649366472876
        }
      },
      "outputs": [],
      "source": [
        "# get the registered environment\n",
        "registered_env = Environment.get(ws, 'experiment_env')\n",
        "\n",
        "# Get the training dataset\n",
        "diabetes_ds = ws.datasets.get(\"diabetes dataset\")\n",
        "\n",
        "# Create a script config\n",
        "script_config = ScriptRunConfig(source_directory=experiment_folder,\n",
        "                              script='diabetes_training.py',\n",
        "                              arguments = ['--input-data', diabetes_ds.as_named_input('training_data')], # Reference to dataset\n",
        "                              environment=registered_env,\n",
        "                              docker_runtime_config=DockerConfiguration(use_docker=True)) # Use docker to host environment \n",
        "\n",
        "# submit the experiment\n",
        "experiment_name = 'mslearn-train-diabetes'\n",
        "experiment = Experiment(workspace=ws, name=experiment_name)\n",
        "run = experiment.submit(config=script_config)\n",
        "RunDetails(run).show()\n",
        "run.wait_for_completion()"
      ]
    },
    {
      "cell_type": "markdown",
      "metadata": {},
      "source": [
        "Kali ini eksperimen berjalan lebih cepat karena lingkungan yang cocok telah disimpan dari eksekusi sebelumnya, sehingga tidak perlu dibuat ulang di komputasi lokal. Tetapi, bahkan pada target komputasi yang berbeda, lingkungan yang sama akan dibuat dan digunakan - memastikan konsistensi untuk konteks eksekusi skrip eksperimen Anda.\n",
        "\n",
        "Mari kita lihat metrik dan output dari eksperimen."
      ]
    },
    {
      "cell_type": "code",
      "execution_count": null,
      "metadata": {
        "gather": {
          "logged": 1649366477009
        }
      },
      "outputs": [],
      "source": [
        "# Get logged metrics\n",
        "metrics = run.get_metrics()\n",
        "for key in metrics.keys():\n",
        "        print(key, metrics.get(key))\n",
        "print('\\n')\n",
        "for file in run.get_file_names():\n",
        "    print(file)"
      ]
    },
    {
      "cell_type": "markdown",
      "metadata": {},
      "source": [
        "## Melihat lingkungan terdaftar\n",
        "\n",
        "Selain mendaftarkan lingkungan Anda sendiri, Anda dapat memanfaatkan lingkungan \"yang dikumpulkan\" yang dibuat sebelumnya untuk jenis eksperimen umum. Kode berikut mencantumkan semua lingkungan yang terdaftar:"
      ]
    },
    {
      "cell_type": "code",
      "execution_count": null,
      "metadata": {
        "gather": {
          "logged": 1649366479796
        },
        "scrolled": true
      },
      "outputs": [],
      "source": [
        "from azureml.core import Environment\n",
        "\n",
        "envs = Environment.list(workspace=ws)\n",
        "for env in envs:\n",
        "    print(\"Name\",env)"
      ]
    },
    {
      "cell_type": "markdown",
      "metadata": {},
      "source": [
        "Semua lingkungan yang dikumpulkan memiliki nama yang dimulai ***AzureML-*** (Anda tidak dapat menggunakan prefiks ini untuk lingkungan Anda sendiri)."
      ]
    },
    {
      "cell_type": "markdown",
      "metadata": {},
      "source": [
        "## Membuat kluster komputasi\n",
        "\n",
        "Dalam banyak kasus, sumber daya komputasi lokal Anda mungkin tidak cukup untuk memproses eksperimen yang kompleks atau berjalan lama yang perlu memproses data dalam jumlah besar; dan Anda mungkin ingin memanfaatkan kemampuan untuk membuat dan menggunakan sumber daya komputasi secara dinamis di cloud. Azure Machine Learning mendukung berbagai target komputasi, yang dapat Anda tentukan di ruang kerja Anda dan gunakan untuk menjalankan eksperimen; membayar sumber daya hanya saat menggunakannya.\n",
        "\n",
        "Anda dapat membuat kluster komputasi di [Studio Azure Machine Learning](https://ml.azure.com), atau dengan menggunakan SDK Azure Machine Learning. Sel kode berikut memeriksa ruang kerja Anda untuk keberadaan kluster komputasi dengan nama tertentu, dan jika tidak ada, Anda dapat membuat kluster komputasi.\n",
        "\n",
        "> **Penting**: Ubah *your-compute-cluster* menjadi nama yang sesuai untuk kluster komputasi Anda dalam kode di bawah ini sebelum menjalankannya - Anda dapat menentukan nama kluster yang ada jika Anda memiliki kluster. Nama kluster harus berupa nama unik global dengan panjang antara 2 hingga 16 karakter. Karakter yang valid adalah huruf, angka, dan - karakter."
      ]
    },
    {
      "cell_type": "code",
      "execution_count": null,
      "metadata": {
        "gather": {
          "logged": 1649366493624
        }
      },
      "outputs": [],
      "source": [
        "from azureml.core.compute import ComputeTarget, AmlCompute\n",
        "from azureml.core.compute_target import ComputeTargetException\n",
        "\n",
        "cluster_name = \"your-compute-cluster\"\n",
        "\n",
        "try:\n",
        "    # Check for existing compute target\n",
        "    training_cluster = ComputeTarget(workspace=ws, name=cluster_name)\n",
        "    print('Found existing cluster, use it.')\n",
        "except ComputeTargetException:\n",
        "    # If it doesn't already exist, create it\n",
        "    try:\n",
        "        compute_config = AmlCompute.provisioning_configuration(vm_size='STANDARD_DS11_V2', max_nodes=2)\n",
        "        training_cluster = ComputeTarget.create(ws, cluster_name, compute_config)\n",
        "        training_cluster.wait_for_completion(show_output=True)\n",
        "    except Exception as ex:\n",
        "        print(ex)"
      ]
    },
    {
      "cell_type": "markdown",
      "metadata": {},
      "source": [
        "> **Catatan**: Instans dan kluster komputasi didasarkan pada gambar mesin virtual Azure standar. Untuk latihan ini, gambar *Standard_DS11_v2* direkomendasikan untuk mencapai keseimbangan optimal antara biaya dan performa. Jika langganan Anda memiliki kuota yang tidak menyertakan gambar ini, pilih gambar alternatif; tetapi perlu diingat bahwa gambar yang lebih besar mungkin memerlukan biaya lebih tinggi dan gambar yang lebih kecil mungkin tidak cukup untuk menyelesaikan tugas. Atau, minta administrator Azure Anda untuk memperbesar kuota Anda.\n",
        "\n",
        "## Menjalankan eksperimen pada komputasi jarak jauh\n",
        "\n",
        "Sekarang Anda siap untuk menjalankan kembali eksperimen yang Anda jalankan sebelumnya, tetapi kali ini di kluster komputasi yang Anda buat. \n",
        "\n",
        "> **Catatan**: Eksperimen akan memakan waktu lebih lama karena gambar kontainer harus dibuat dengan lingkungan conda, lalu node kluster harus dimulai dan gambar disebarkan sebelum skrip dapat dijalankan. Untuk eksperimen sederhana seperti skrip pelatihan diabetes, skrip ini mungkin tampak tidak efisien; tetapi bayangkan Anda perlu menjalankan eksperimen yang lebih kompleks yang membutuhkan waktu beberapa jam - membuat komputasi yang lebih scalable secara dinamis dapat mengurangi keseluruhan waktu secara signifikan."
      ]
    },
    {
      "cell_type": "code",
      "execution_count": null,
      "metadata": {
        "gather": {
          "logged": 1649366501837
        }
      },
      "outputs": [],
      "source": [
        "# Create a script config\n",
        "script_config = ScriptRunConfig(source_directory=experiment_folder,\n",
        "                                script='diabetes_training.py',\n",
        "                                arguments = ['--input-data', diabetes_ds.as_named_input('training_data')],\n",
        "                                environment=registered_env,\n",
        "                                compute_target=cluster_name) \n",
        "\n",
        "# submit the experiment\n",
        "experiment_name = 'mslearn-train-diabetes'\n",
        "experiment = Experiment(workspace=ws, name=experiment_name)\n",
        "run = experiment.submit(config=script_config)\n",
        "RunDetails(run).show()"
      ]
    },
    {
      "cell_type": "markdown",
      "metadata": {},
      "source": [
        "Sambil menunggu eksperimen berjalan, Anda dapat memeriksa status komputasi di widget di atas atau di [Studio Azure Machine Learning](https://ml.azure.com). Anda juga dapat memeriksa status komputasi menggunakan kode di bawah ini."
      ]
    },
    {
      "cell_type": "code",
      "execution_count": null,
      "metadata": {
        "gather": {
          "logged": 1649366504636
        }
      },
      "outputs": [],
      "source": [
        "cluster_state = training_cluster.get_status()\n",
        "print(cluster_state.allocation_state, cluster_state.current_node_count)"
      ]
    },
    {
      "cell_type": "markdown",
      "metadata": {},
      "source": [
        "Perhatikan bahwa perlu beberapa saat sebelum status berubah dari *menyeimbangkan* ke *mengubah ukuran* (sekarang mungkin saat yang tepat untuk istirahat sejenak!). Untuk memblokir kernel hingga eksekusi selesai, jalankan sel di bawah ini."
      ]
    },
    {
      "cell_type": "code",
      "execution_count": null,
      "metadata": {
        "gather": {
          "logged": 1649367026789
        }
      },
      "outputs": [],
      "source": [
        "run.wait_for_completion()"
      ]
    },
    {
      "cell_type": "markdown",
      "metadata": {},
      "source": [
        "Perhatikan indikator kernel di kanan atas halaman, ketika indikator berubah dari **&#9899;** menjadi **&#9711;**, kode telah selesai dijalankan.\n",
        "\n",
        "Setelah eksperimen selesai, Anda bisa mendapatkan metrik dan file yang dihasilkan oleh eksekusi eksperimen. Sekarang, file akan menyertakan log untuk membuat gambar dan mengelola komputasi."
      ]
    },
    {
      "cell_type": "code",
      "execution_count": null,
      "metadata": {
        "gather": {
          "logged": 1649367036387
        }
      },
      "outputs": [],
      "source": [
        "# Get logged metrics\n",
        "metrics = run.get_metrics()\n",
        "for key in metrics.keys():\n",
        "        print(key, metrics.get(key))\n",
        "print('\\n')\n",
        "for file in run.get_file_names():\n",
        "    print(file)"
      ]
    },
    {
      "cell_type": "markdown",
      "metadata": {},
      "source": [
        "Sekarang Anda dapat mendaftarkan model yang dilatih oleh eksperimen."
      ]
    },
    {
      "cell_type": "code",
      "execution_count": null,
      "metadata": {
        "gather": {
          "logged": 1649367039203
        }
      },
      "outputs": [],
      "source": [
        "from azureml.core import Model\n",
        "\n",
        "# Register the model\n",
        "run.register_model(model_path='outputs/diabetes_model.pkl', model_name='diabetes_model',\n",
        "                   tags={'Training context':'Compute cluster'}, properties={'AUC': run.get_metrics()['AUC'], 'Accuracy': run.get_metrics()['Accuracy']})\n",
        "\n",
        "# List registered models\n",
        "for model in Model.list(ws):\n",
        "    print(model.name, 'version:', model.version)\n",
        "    for tag_name in model.tags:\n",
        "        tag = model.tags[tag_name]\n",
        "        print ('\\t',tag_name, ':', tag)\n",
        "    for prop_name in model.properties:\n",
        "        prop = model.properties[prop_name]\n",
        "        print ('\\t',prop_name, ':', prop)\n",
        "    print('\\n')"
      ]
    },
    {
      "cell_type": "markdown",
      "metadata": {},
      "source": [
        "> **Informasi Selengkapnya**:\n",
        ">\n",
        "> - Untuk informasi selengkapnya tentang lingkungan di Azure Machine Learning, lihat [Membuat & menggunakan lingkungan perangkat lunak di Azure Machine Learning](https://docs.microsoft.com/azure/machine-learning/how-to-use-environments)\n",
        "> - Untuk informasi selengkapnya tentang target komputasi di Azure Machine Learning, lihat [Apa yang dimaksud dengan target komputasi di Azure Machine Learning?](https://docs.microsoft.com/azure/machine-learning/concept-compute-target)."
      ]
    }
  ],
  "metadata": {
    "kernel_info": {
      "name": "python38-azureml"
    },
    "kernelspec": {
      "display_name": "Python 3.8 - AzureML",
      "language": "python",
      "name": "python38-azureml"
    },
    "language_info": {
      "codemirror_mode": {
        "name": "ipython",
        "version": 3
      },
      "file_extension": ".py",
      "mimetype": "text/x-python",
      "name": "python",
      "nbconvert_exporter": "python",
      "pygments_lexer": "ipython3",
      "version": "3.8.5"
    },
    "nteract": {
      "version": "nteract-front-end@1.0.0"
    }
  },
  "nbformat": 4,
  "nbformat_minor": 0
}
