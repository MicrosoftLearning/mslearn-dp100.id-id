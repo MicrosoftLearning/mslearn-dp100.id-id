{
  "cells": [
    {
      "cell_type": "markdown",
      "metadata": {},
      "source": [
        "# Memantau Data Drift\n",
        "\n",
        "Seiring waktu, model dapat menjadi kurang efektif dalam memprediksi secara akurat karena perubahan tren dalam data fitur. Fenomena ini dikenal sebagai *data drift*, dan penting untuk memantau solusi pembelajaran mesin Anda untuk mendeteksinya sehingga Anda dapat melatih kembali model Anda jika perlu.\n",
        "\n",
        "Di lab ini, Anda akan mengonfigurasi pemantauan data drift untuk himpunan data."
      ]
    },
    {
      "cell_type": "markdown",
      "metadata": {},
      "source": [
        "## Sebelum memulai\n",
        "\n",
        "Selain versi terbaru paket **azureml-sdk** dan **azureml-widgets**, Anda memerlukan paket **azureml-datadrift** untuk menjalankan kode di notebook ini. Jalankan sel di bawah ini untuk memverifikasi bahwa itu diinstal."
      ]
    },
    {
      "cell_type": "code",
      "execution_count": null,
      "metadata": {},
      "outputs": [],
      "source": [
        "pip show azureml-datadrift"
      ]
    },
    {
      "cell_type": "markdown",
      "metadata": {},
      "source": [
        "## Menghubungkan ke ruang kerja Anda\n",
        "\n",
        "Dengan menginstal paket SDK yang diperlukan, sekarang Anda siap untuk terhubung ke ruang kerja Anda.\n",
        "\n",
        "> **Catatan**: Jika Anda belum membuat sesi yang terautentikasi dengan langganan Azure, Anda akan diminta untuk mengautentikasi dengan mengklik tautan, memasukkan kode autentikasi, dan masuk ke Azure."
      ]
    },
    {
      "cell_type": "code",
      "execution_count": null,
      "metadata": {
        "gather": {
          "logged": 1649368594272
        }
      },
      "outputs": [],
      "source": [
        "from azureml.core import Workspace\n",
        "\n",
        "# Load the workspace from the saved config file\n",
        "ws = Workspace.from_config()\n",
        "print('Ready to work with', ws.name)"
      ]
    },
    {
      "cell_type": "markdown",
      "metadata": {},
      "source": [
        "## Membuat himpunan data *garis besar*\n",
        "\n",
        "Untuk memantau himpunan data untuk penyimpangan data, Anda harus mendaftarkan himpunan data *garis besar* (biasanya himpunan data yang digunakan untuk melatih model Anda) untuk digunakan sebagai titik perbandingan dengan data yang dikumpulkan di masa mendatang. "
      ]
    },
    {
      "cell_type": "code",
      "execution_count": null,
      "metadata": {},
      "outputs": [],
      "source": [
        "from azureml.core import Datastore, Dataset\n",
        "from azureml.data.datapath import DataPath\n",
        "\n",
        "# Upload the baseline data\n",
        "default_ds = ws.get_default_datastore()\n",
        "Dataset.File.upload_directory(src_dir='data',\n",
        "                              target=DataPath(default_ds, 'diabetes-data/')\n",
        "                              )\n",
        "\n",
        "# Create and register the baseline dataset\n",
        "print('Registering baseline dataset...')\n",
        "baseline_data_set = Dataset.Tabular.from_delimited_files(path=(default_ds, 'diabetes-baseline/*.csv'))\n",
        "baseline_data_set = baseline_data_set.register(workspace=ws, \n",
        "                           name='diabetes baseline',\n",
        "                           description='diabetes baseline data',\n",
        "                           tags = {'format':'CSV'},\n",
        "                           create_new_version=True)\n",
        "\n",
        "print('Baseline dataset registered!')"
      ]
    },
    {
      "cell_type": "markdown",
      "metadata": {},
      "source": [
        "## Membuat himpunan data *target*\n",
        "\n",
        "Seiring waktu, Anda dapat mengumpulkan data baru dengan fitur yang sama seperti data pelatihan garis besar Anda. Untuk membandingkan data baru ini dengan garis besar data, Anda harus menentukan himpunan data target yang menyertakan fitur yang ingin Anda analisis untuk penyimpangan data serta bidang stempel waktu yang menunjukkan titik waktu saat data baru saat ini, hal ini memungkinkan Anda untuk mengukur penyimpangan data selama interval temporal. Stempel waktu dapat berupa bidang dalam himpunan data itu sendiri, atau berasal dari folder dan pola nama file yang digunakan untuk menyimpan data. Misalnya, Anda mungkin menyimpan data baru dalam hierarki folder yang terdiri dari folder untuk tahun tersebut, yang berisi folder untuk bulan tersebut, yang selanjutnya berisi folder untuk hari itu; atau Anda bisa mengodekan tahun, bulan, dan hari dalam nama file seperti ini: *data_2020-01-29.csv*; yang merupakan pendekatan yang diambil dalam kode berikut:"
      ]
    },
    {
      "cell_type": "code",
      "execution_count": null,
      "metadata": {},
      "outputs": [],
      "source": [
        "import datetime as dt\n",
        "import pandas as pd\n",
        "\n",
        "print('Generating simulated data...')\n",
        "\n",
        "# Load the smaller of the two data files\n",
        "data = pd.read_csv('data/diabetes2.csv')\n",
        "\n",
        "# We'll generate data for the past 6 weeks\n",
        "weeknos = reversed(range(6))\n",
        "\n",
        "file_paths = []\n",
        "for weekno in weeknos:\n",
        "    \n",
        "    # Get the date X weeks ago\n",
        "    data_date = dt.date.today() - dt.timedelta(weeks=weekno)\n",
        "    \n",
        "    # Modify data to ceate some drift\n",
        "    data['Pregnancies'] = data['Pregnancies'] + 1\n",
        "    data['Age'] = round(data['Age'] * 1.2).astype(int)\n",
        "    data['BMI'] = data['BMI'] * 1.1\n",
        "    \n",
        "    # Save the file with the date encoded in the filename\n",
        "    file_path = 'data/diabetes_{}.csv'.format(data_date.strftime(\"%Y-%m-%d\"))\n",
        "    data.to_csv(file_path)\n",
        "    file_paths.append(file_path)\n",
        "\n",
        "# Upload the files\n",
        "path_on_datastore = 'diabetes-target'\n",
        "default_ds.upload_files(files=file_paths,\n",
        "                       target_path=path_on_datastore,\n",
        "                       overwrite=True,\n",
        "                       show_progress=True)\n",
        "\n",
        "# Use the folder partition format to define a dataset with a 'date' timestamp column\n",
        "partition_format = path_on_datastore + '/diabetes_{date:yyyy-MM-dd}.csv'\n",
        "target_data_set = Dataset.Tabular.from_delimited_files(path=(default_ds, path_on_datastore + '/*.csv'),\n",
        "                                                       partition_format=partition_format)\n",
        "\n",
        "# Register the target dataset\n",
        "print('Registering target dataset...')\n",
        "target_data_set = target_data_set.with_timestamp_columns('date').register(workspace=ws,\n",
        "                                                                          name='diabetes target',\n",
        "                                                                          description='diabetes target data',\n",
        "                                                                          tags = {'format':'CSV'},\n",
        "                                                                          create_new_version=True)\n",
        "\n",
        "print('Target dataset registered!')"
      ]
    },
    {
      "cell_type": "markdown",
      "metadata": {},
      "source": [
        "## Membuat pemantauan drift data\n",
        "\n",
        "Sekarang Anda siap membuat pemantauan drift data untuk data diabetes. Pemantauan drift data akan berjalan secara berkala atau sesuai permintaan untuk membandingkan garis besar himpunan data dengan himpunan data target, yang akan ditambahkan data baru seiring waktu.\n",
        "\n",
        "### Membuat target komputasi\n",
        "\n",
        "Untuk mengeksekusi pemantauan drift data, Anda memerlukan target komputasi. Jalankan sel berikut untuk menentukan kluster komputasi (jika tidak ada, kluster akan dibuat).\n",
        "\n",
        "> **Penting**: Ubah *your-compute-cluster* menjadi nama kluster komputasi Anda dalam kode di bawah ini sebelum menjalankannya! Nama kluster harus berupa nama unik global dengan panjang antara 2 hingga 16 karakter. Karakter yang valid adalah huruf, angka, dan - karakter."
      ]
    },
    {
      "cell_type": "code",
      "execution_count": null,
      "metadata": {},
      "outputs": [],
      "source": [
        "from azureml.core.compute import ComputeTarget, AmlCompute\n",
        "from azureml.core.compute_target import ComputeTargetException\n",
        "\n",
        "cluster_name = \"your-compute-cluster\"\n",
        "\n",
        "try:\n",
        "    # Check for existing compute target\n",
        "    training_cluster = ComputeTarget(workspace=ws, name=cluster_name)\n",
        "    print('Found existing cluster, use it.')\n",
        "except ComputeTargetException:\n",
        "    # If it doesn't already exist, create it\n",
        "    try:\n",
        "        compute_config = AmlCompute.provisioning_configuration(vm_size='STANDARD_DS11_V2', max_nodes=2)\n",
        "        training_cluster = ComputeTarget.create(ws, cluster_name, compute_config)\n",
        "        training_cluster.wait_for_completion(show_output=True)\n",
        "    except Exception as ex:\n",
        "        print(ex)\n",
        "    "
      ]
    },
    {
      "cell_type": "markdown",
      "metadata": {},
      "source": [
        "> **Catatan**: Instans dan kluster komputasi didasarkan pada gambar mesin virtual Azure standar. Untuk latihan ini, gambar *Standard_DS11_v2* direkomendasikan untuk mencapai keseimbangan optimal antara biaya dan performa. Jika langganan Anda memiliki kuota yang tidak menyertakan gambar ini, pilih gambar alternatif; tetapi perlu diingat bahwa gambar yang lebih besar mungkin memerlukan biaya lebih tinggi dan gambar yang lebih kecil mungkin tidak cukup untuk menyelesaikan tugas. Atau, minta administrator Azure Anda untuk memperbesar kuota Anda.\n",
        "\n",
        "### Menentukan pemantauan drift data\n",
        "\n",
        "Sekarang Anda siap menggunakan kelas **DataDriftDetector** untuk menentukan monitor penyimpangan data untuk data Anda. Anda dapat menentukan fitur yang ingin Anda pantau untuk penyimpangan data, nama target komputasi yang akan digunakan untuk menjalankan proses pemantauan, frekuensi perbandingan data, ambang penyimpangan data di mana pemberitahuan harus dipicu, dan latensi (dalam jam) untuk memungkinkan pengumpulan data."
      ]
    },
    {
      "cell_type": "code",
      "execution_count": null,
      "metadata": {},
      "outputs": [],
      "source": [
        "from azureml.datadrift import DataDriftDetector\n",
        "\n",
        "# set up feature list\n",
        "features = ['Pregnancies', 'Age', 'BMI']\n",
        "\n",
        "# set up data drift detector\n",
        "monitor = DataDriftDetector.create_from_datasets(ws, 'mslearn-diabates-drift', baseline_data_set, target_data_set,\n",
        "                                                      compute_target=cluster_name, \n",
        "                                                      frequency='Week', \n",
        "                                                      feature_list=features, \n",
        "                                                      drift_threshold=.3, \n",
        "                                                      latency=24)\n",
        "monitor"
      ]
    },
    {
      "cell_type": "markdown",
      "metadata": {},
      "source": [
        "## Mengisi ulang pemantauan drift data\n",
        "\n",
        "Anda memiliki himpunan data garis besar dan himpunan data target yang mencakup pengumpulan data mingguan yang disimulasikan selama enam minggu. Anda dapat menggunakan ini untuk mengisi ulang pemantauan sehingga dapat menganalisis penyimpangan data antara garis besar asli dan data target.\n",
        "\n",
        "> **Catatan** Ini mungkin membutuhkan waktu untuk dijalankan, karena target komputasi harus dimulai untuk menjalankan analisis backfill. Widget mungkin tidak selalu diperbarui untuk menampilkan status, jadi klik tautan untuk mengamati status eksperimen di studio Azure Machine Learning!"
      ]
    },
    {
      "cell_type": "code",
      "execution_count": null,
      "metadata": {},
      "outputs": [],
      "source": [
        "from azureml.widgets import RunDetails\n",
        "\n",
        "backfill = monitor.backfill(dt.datetime.now() - dt.timedelta(weeks=6), dt.datetime.now())\n",
        "\n",
        "RunDetails(backfill).show()\n",
        "backfill.wait_for_completion()"
      ]
    },
    {
      "cell_type": "markdown",
      "metadata": {},
      "source": [
        "## Menganalisis drift data\n",
        "\n",
        "Anda dapat menggunakan kode berikut untuk memeriksa drift data untuk titik waktu yang dikumpulkan dalam proses eksekusi backfill."
      ]
    },
    {
      "cell_type": "code",
      "execution_count": null,
      "metadata": {},
      "outputs": [],
      "source": [
        "drift_metrics = backfill.get_metrics()\n",
        "for metric in drift_metrics:\n",
        "    print(metric, drift_metrics[metric])"
      ]
    },
    {
      "cell_type": "markdown",
      "metadata": {},
      "source": [
        "Anda juga dapat memvisualisasikan metrik penyimpangan data di [Azure Machine Learning studio](https://ml.azure.com) dengan mengikuti langkah-langkah berikut:\n",
        "\n",
        "1. Pada halaman **Data**, lihat tab **Pemantauan himpunan data**.\n",
        "2. Klik pemantauan drift data yang ingin Anda lihat.\n",
        "3. Pilih rentang tanggal yang Anda ingin lihat metrik drift datanya (jika diagram kolom tidak menampilkan data beberapa minggu, tunggu sekitar satu menit dan klik **Refresh**).\n",
        "4. Periksa bagan di bagian **Ringkasan drift** di bagian atas, yang menunjukkan besaran drift keseluruhan dan kontribusi drift per fitur.\n",
        "5. Jelajahi bagan di bagian **Detail fitur** di bagian bawah, yang memungkinkan Anda melihat berbagai ukuran drift untuk fitur individual.\n",
        "\n",
        "> **Catatan**: Untuk membantu memahami metrik drift data, lihat [Cara memantau himpunan data](https://docs.microsoft.com/azure/machine-learning/how-to-monitor-datasets#understanding-data-drift-results) dalam dokumentasi Azure Machine Learning.\n",
        "\n",
        "## Menjelajahi lebih lanjut\n",
        "\n",
        "Lab ini dirancang untuk memperkenalkan Anda pada konsep dan prinsip pemantauan drift data. Untuk mempelajari lebih lanjut tentang memantau drift data menggunakan himpunan data, lihat [Mendeteksi drift data pada himpunan data](https://docs.microsoft.com/azure/machine-learning/how-to-monitor-datasets) di dokumentasi Azure machine Learning.\n",
        "\n",
        "Anda juga dapat mengumpulkan data dari layanan yang diterbitkan dan menggunakannya sebagai himpunan data target untuk pemantauan datadrift. Lihat [Mengumpulkan data dari model dalam produksi](https://docs.microsoft.com/azure/machine-learning/how-to-enable-data-collection) untuk detailnya.\n"
      ]
    }
  ],
  "metadata": {
    "kernel_info": {
      "name": "python38-azureml"
    },
    "kernelspec": {
      "display_name": "Python 3.8 - AzureML",
      "language": "python",
      "name": "python38-azureml"
    },
    "language_info": {
      "codemirror_mode": {
        "name": "ipython",
        "version": 3
      },
      "file_extension": ".py",
      "mimetype": "text/x-python",
      "name": "python",
      "nbconvert_exporter": "python",
      "pygments_lexer": "ipython3",
      "version": "3.8.5"
    },
    "nteract": {
      "version": "nteract-front-end@1.0.0"
    }
  },
  "nbformat": 4,
  "nbformat_minor": 0
}
